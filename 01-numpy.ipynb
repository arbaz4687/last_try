{
 "cells": [
  {
   "cell_type": "markdown",
   "id": "8c0992fd",
   "metadata": {},
   "source": [
    "# what is array?\n",
    "- array ka istamal data ko index ki base pr store krnay kai liyai istamal hota is ki three type hai,faster than list,manage cploex data as compare list \n",
    "- one dimension array (\"data ko single side pr represent krta hai \")\n",
    "- two dimension array(\"two side mai data ko represent kiya jata hai xaxsis,or yaxsis pr \")"
   ]
  },
  {
   "cell_type": "markdown",
   "id": "8ea3b580",
   "metadata": {},
   "source": [
    "# what is an vector?\n",
    "- same as one dimension array.\n",
    "matrix?\n",
    "- stored data in rows and columns form"
   ]
  },
  {
   "cell_type": "markdown",
   "id": "583b930b",
   "metadata": {},
   "source": [
    "# 1-D array"
   ]
  },
  {
   "cell_type": "code",
   "execution_count": 7,
   "id": "a98ca8e4",
   "metadata": {},
   "outputs": [
    {
     "data": {
      "text/plain": [
       "array([5, 5, 5])"
      ]
     },
     "execution_count": 7,
     "metadata": {},
     "output_type": "execute_result"
    }
   ],
   "source": [
    "import numpy as np\n",
    "a=np.array([5,5,5])\n",
    "a"
   ]
  },
  {
   "cell_type": "code",
   "execution_count": 8,
   "id": "99c03fea",
   "metadata": {},
   "outputs": [
    {
     "data": {
      "text/plain": [
       "3"
      ]
     },
     "execution_count": 8,
     "metadata": {},
     "output_type": "execute_result"
    }
   ],
   "source": [
    "len(a)"
   ]
  },
  {
   "cell_type": "code",
   "execution_count": 9,
   "id": "feb66359",
   "metadata": {},
   "outputs": [
    {
     "data": {
      "text/plain": [
       "5"
      ]
     },
     "execution_count": 9,
     "metadata": {},
     "output_type": "execute_result"
    }
   ],
   "source": [
    "a[2]"
   ]
  },
  {
   "cell_type": "code",
   "execution_count": 10,
   "id": "53f1231b",
   "metadata": {
    "scrolled": true
   },
   "outputs": [
    {
     "data": {
      "text/plain": [
       "array([5])"
      ]
     },
     "execution_count": 10,
     "metadata": {},
     "output_type": "execute_result"
    }
   ],
   "source": [
    "a[0:1]"
   ]
  },
  {
   "cell_type": "code",
   "execution_count": 11,
   "id": "68cad449",
   "metadata": {},
   "outputs": [
    {
     "data": {
      "text/plain": [
       "numpy.ndarray"
      ]
     },
     "execution_count": 11,
     "metadata": {},
     "output_type": "execute_result"
    }
   ],
   "source": [
    "type(a)"
   ]
  },
  {
   "cell_type": "markdown",
   "id": "484c5138",
   "metadata": {},
   "source": [
    "# 2-D array (use same commands)"
   ]
  },
  {
   "cell_type": "code",
   "execution_count": 13,
   "id": "a22a9cde",
   "metadata": {},
   "outputs": [
    {
     "data": {
      "text/plain": [
       "array([[5, 5, 5],\n",
       "       [5, 5, 5],\n",
       "       [5, 5, 5]])"
      ]
     },
     "execution_count": 13,
     "metadata": {},
     "output_type": "execute_result"
    }
   ],
   "source": [
    "import numpy as np\n",
    "ll=np.array([[5,5,5],[5,5,5],[5,5,5]])\n",
    "ll"
   ]
  },
  {
   "cell_type": "code",
   "execution_count": null,
   "id": "3e2226cd",
   "metadata": {},
   "outputs": [],
   "source": [
    "# how we can create a single dimension array\n",
    "import numpy as np\n",
    "a=np.array([5,5,5])\n",
    "a"
   ]
  },
  {
   "cell_type": "code",
   "execution_count": 7,
   "id": "4a5a7a30",
   "metadata": {},
   "outputs": [
    {
     "data": {
      "text/plain": [
       "array([[ 5,  5,  5],\n",
       "       [ 4, 44, 55],\n",
       "       [77, 44, 44]])"
      ]
     },
     "execution_count": 7,
     "metadata": {},
     "output_type": "execute_result"
    }
   ],
   "source": [
    "#how we can create a two dimension array \n",
    "import numpy as np\n",
    "a=np.array([[5,5,5],[4,44,55],[77,44,44]])\n",
    "a"
   ]
  },
  {
   "cell_type": "code",
   "execution_count": 24,
   "id": "3cd4bd20",
   "metadata": {},
   "outputs": [
    {
     "data": {
      "text/plain": [
       "array([0., 0., 0.])"
      ]
     },
     "execution_count": 24,
     "metadata": {},
     "output_type": "execute_result"
    }
   ],
   "source": [
    "import numpy as np\n",
    "zero=np.zeros(3)\n",
    "zero"
   ]
  },
  {
   "cell_type": "code",
   "execution_count": 25,
   "id": "295d8569",
   "metadata": {},
   "outputs": [
    {
     "data": {
      "text/plain": [
       "array([1., 1., 1.])"
      ]
     },
     "execution_count": 25,
     "metadata": {},
     "output_type": "execute_result"
    }
   ],
   "source": [
    "import numpy as np\n",
    "one=np.ones(3)\n",
    "one"
   ]
  },
  {
   "cell_type": "code",
   "execution_count": 26,
   "id": "b3e9c38a",
   "metadata": {},
   "outputs": [
    {
     "data": {
      "text/plain": [
       "array([1., 1., 1.])"
      ]
     },
     "execution_count": 26,
     "metadata": {},
     "output_type": "execute_result"
    }
   ],
   "source": [
    "import numpy as np\n",
    "empty=np.empty(3)\n",
    "empty"
   ]
  },
  {
   "cell_type": "code",
   "execution_count": 34,
   "id": "a87443ba",
   "metadata": {},
   "outputs": [
    {
     "data": {
      "text/plain": [
       "array([0, 1, 2, 3, 4])"
      ]
     },
     "execution_count": 34,
     "metadata": {},
     "output_type": "execute_result"
    }
   ],
   "source": [
    "#print with arrange \n",
    "import numpy as np\n",
    "q=np.arange(5)\n",
    "q\n"
   ]
  },
  {
   "cell_type": "code",
   "execution_count": 39,
   "id": "69c66f31",
   "metadata": {},
   "outputs": [
    {
     "data": {
      "text/plain": [
       "array([ 0,  1,  2,  3,  4,  5,  6,  7,  8,  9, 10, 11, 12, 13, 14, 15, 16,\n",
       "       17, 18, 19])"
      ]
     },
     "execution_count": 39,
     "metadata": {},
     "output_type": "execute_result"
    }
   ],
   "source": [
    "#print with  specific arange arrange \n",
    "import numpy as np\n",
    "w=np.arange(0,20)\n",
    "w\n"
   ]
  },
  {
   "cell_type": "code",
   "execution_count": 40,
   "id": "46de0e49",
   "metadata": {},
   "outputs": [
    {
     "data": {
      "text/plain": [
       "array([ 2,  7, 12, 17, 22, 27, 32, 37, 42, 47])"
      ]
     },
     "execution_count": 40,
     "metadata": {},
     "output_type": "execute_result"
    }
   ],
   "source": [
    "#continue\n",
    "#print with  specific arange arrange \n",
    "import numpy as np\n",
    "e=np.arange(2,50,5)\n",
    "e"
   ]
  },
  {
   "cell_type": "code",
   "execution_count": 43,
   "id": "24da7100",
   "metadata": {},
   "outputs": [
    {
     "data": {
      "text/plain": [
       "array([ 2.        ,  2.04367607,  2.08735214, ..., 49.91264786,\n",
       "       49.95632393, 50.        ])"
      ]
     },
     "execution_count": 43,
     "metadata": {},
     "output_type": "execute_result"
    }
   ],
   "source": [
    "#linerly space array\n",
    "#print with  specific arange arrange \n",
    "import numpy as np\n",
    "r=np.linspace(2,50,num=1100)\n",
    "r"
   ]
  },
  {
   "cell_type": "code",
   "execution_count": 48,
   "id": "fad88c21",
   "metadata": {},
   "outputs": [
    {
     "data": {
      "text/plain": [
       "array([1., 1., 1., 1., 1.], dtype=float32)"
      ]
     },
     "execution_count": 48,
     "metadata": {},
     "output_type": "execute_result"
    }
   ],
   "source": [
    "#print with  specific arange arrange \n",
    "import numpy as np\n",
    "p=np.ones(5,dtype=np.float32)\n",
    "p"
   ]
  },
  {
   "cell_type": "code",
   "execution_count": 51,
   "id": "6c35aaa0",
   "metadata": {},
   "outputs": [
    {
     "data": {
      "text/plain": [
       "array([0, 0, 0, 0, 0], dtype=int16)"
      ]
     },
     "execution_count": 51,
     "metadata": {},
     "output_type": "execute_result"
    }
   ],
   "source": [
    "import numpy as np\n",
    "qp=np.zeros(5,dtype=np.int16)\n",
    "qp"
   ]
  },
  {
   "cell_type": "markdown",
   "id": "ed9dc499",
   "metadata": {},
   "source": [
    "# 2D arrray"
   ]
  },
  {
   "cell_type": "code",
   "execution_count": 1,
   "id": "d02d7b2b",
   "metadata": {},
   "outputs": [
    {
     "data": {
      "text/plain": [
       "array([[1., 1., 1.],\n",
       "       [1., 1., 1.]])"
      ]
     },
     "execution_count": 1,
     "metadata": {},
     "output_type": "execute_result"
    }
   ],
   "source": [
    "import numpy as np\n",
    "qa=np.ones((2,3))\n",
    "qa"
   ]
  },
  {
   "cell_type": "code",
   "execution_count": 2,
   "id": "b4675e51",
   "metadata": {},
   "outputs": [
    {
     "data": {
      "text/plain": [
       "array([[0., 0., 0.],\n",
       "       [0., 0., 0.],\n",
       "       [0., 0., 0.],\n",
       "       [0., 0., 0.],\n",
       "       [0., 0., 0.]])"
      ]
     },
     "execution_count": 2,
     "metadata": {},
     "output_type": "execute_result"
    }
   ],
   "source": [
    "\n",
    "np.zeros((5,3))\n"
   ]
  },
  {
   "cell_type": "code",
   "execution_count": 3,
   "id": "a45a5254",
   "metadata": {},
   "outputs": [
    {
     "data": {
      "text/plain": [
       "array([[6.23042070e-307, 3.33776697e-307, 9.79054228e-307,\n",
       "        9.34598926e-307],\n",
       "       [1.11258854e-306, 1.11261502e-306, 1.42410839e-306,\n",
       "        7.56597770e-307],\n",
       "       [6.23059726e-307, 1.42419530e-306, 1.37961302e-306,\n",
       "        1.37954579e-306]])"
      ]
     },
     "execution_count": 3,
     "metadata": {},
     "output_type": "execute_result"
    }
   ],
   "source": [
    "np.empty((3,4))\n",
    "#karbar (not satisfied by me )"
   ]
  },
  {
   "cell_type": "code",
   "execution_count": null,
   "id": "8c293de8",
   "metadata": {},
   "outputs": [],
   "source": []
  }
 ],
 "metadata": {
  "kernelspec": {
   "display_name": "Python 3 (ipykernel)",
   "language": "python",
   "name": "python3"
  },
  "language_info": {
   "codemirror_mode": {
    "name": "ipython",
    "version": 3
   },
   "file_extension": ".py",
   "mimetype": "text/x-python",
   "name": "python",
   "nbconvert_exporter": "python",
   "pygments_lexer": "ipython3",
   "version": "3.11.3"
  }
 },
 "nbformat": 4,
 "nbformat_minor": 5
}
