{
 "cells": [
  {
   "cell_type": "markdown",
   "id": "f68fe976",
   "metadata": {},
   "source": [
    "# numpy practice section"
   ]
  },
  {
   "cell_type": "code",
   "execution_count": 1,
   "id": "d14f166a",
   "metadata": {},
   "outputs": [],
   "source": [
    "import numpy as np\n"
   ]
  },
  {
   "cell_type": "markdown",
   "id": "bcbcf81f",
   "metadata": {},
   "source": [
    "# creating an array using numpy"
   ]
  },
  {
   "cell_type": "code",
   "execution_count": 2,
   "id": "85b08d80",
   "metadata": {},
   "outputs": [
    {
     "data": {
      "text/plain": [
       "array(['pakoray', 'samosay', 'raita'], dtype='<U7')"
      ]
     },
     "execution_count": 2,
     "metadata": {},
     "output_type": "execute_result"
    }
   ],
   "source": [
    "food=np.array([\"pakoray\",\"samosay\",\"raita\"])\n",
    "food"
   ]
  },
  {
   "cell_type": "code",
   "execution_count": 3,
   "id": "e5b82f2e",
   "metadata": {},
   "outputs": [
    {
     "data": {
      "text/plain": [
       "array([5, 5, 5])"
      ]
     },
     "execution_count": 3,
     "metadata": {},
     "output_type": "execute_result"
    }
   ],
   "source": [
    "price=np.array([5,5,5])\n",
    "price"
   ]
  },
  {
   "cell_type": "code",
   "execution_count": 4,
   "id": "62a0dede",
   "metadata": {},
   "outputs": [
    {
     "data": {
      "text/plain": [
       "numpy.ndarray"
      ]
     },
     "execution_count": 4,
     "metadata": {},
     "output_type": "execute_result"
    }
   ],
   "source": [
    "type(price)"
   ]
  },
  {
   "cell_type": "code",
   "execution_count": 5,
   "id": "2f39b8f2",
   "metadata": {},
   "outputs": [
    {
     "data": {
      "text/plain": [
       "numpy.ndarray"
      ]
     },
     "execution_count": 5,
     "metadata": {},
     "output_type": "execute_result"
    }
   ],
   "source": [
    "type(food)"
   ]
  },
  {
   "cell_type": "code",
   "execution_count": 6,
   "id": "84f554ea",
   "metadata": {},
   "outputs": [
    {
     "data": {
      "text/plain": [
       "3"
      ]
     },
     "execution_count": 6,
     "metadata": {},
     "output_type": "execute_result"
    }
   ],
   "source": [
    "len(food)"
   ]
  },
  {
   "cell_type": "code",
   "execution_count": 7,
   "id": "ac37b728",
   "metadata": {},
   "outputs": [
    {
     "data": {
      "text/plain": [
       "5"
      ]
     },
     "execution_count": 7,
     "metadata": {},
     "output_type": "execute_result"
    }
   ],
   "source": [
    "price[2]"
   ]
  },
  {
   "cell_type": "code",
   "execution_count": 8,
   "id": "33ea06fc",
   "metadata": {},
   "outputs": [
    {
     "data": {
      "text/plain": [
       "'pakoray'"
      ]
     },
     "execution_count": 8,
     "metadata": {},
     "output_type": "execute_result"
    }
   ],
   "source": [
    "food[0]"
   ]
  },
  {
   "cell_type": "code",
   "execution_count": 9,
   "id": "73c338f7",
   "metadata": {},
   "outputs": [
    {
     "data": {
      "text/plain": [
       "5.0"
      ]
     },
     "execution_count": 9,
     "metadata": {},
     "output_type": "execute_result"
    }
   ],
   "source": [
    "price.mean()"
   ]
  },
  {
   "cell_type": "markdown",
   "id": "fbbec500",
   "metadata": {},
   "source": [
    "# different method of array"
   ]
  },
  {
   "cell_type": "code",
   "execution_count": 10,
   "id": "25550c6e",
   "metadata": {},
   "outputs": [
    {
     "data": {
      "text/plain": [
       "array([0., 0., 0.])"
      ]
     },
     "execution_count": 10,
     "metadata": {},
     "output_type": "execute_result"
    }
   ],
   "source": [
    "np.zeros(3)"
   ]
  },
  {
   "cell_type": "code",
   "execution_count": 11,
   "id": "4e745621",
   "metadata": {},
   "outputs": [
    {
     "data": {
      "text/plain": [
       "array([1., 1., 1., 1., 1.])"
      ]
     },
     "execution_count": 11,
     "metadata": {},
     "output_type": "execute_result"
    }
   ],
   "source": [
    "np.ones(5)"
   ]
  },
  {
   "cell_type": "code",
   "execution_count": 12,
   "id": "dad93681",
   "metadata": {},
   "outputs": [
    {
     "data": {
      "text/plain": [
       "array([1., 1., 1., 1., 1.])"
      ]
     },
     "execution_count": 12,
     "metadata": {},
     "output_type": "execute_result"
    }
   ],
   "source": [
    "np.empty(5)"
   ]
  },
  {
   "cell_type": "code",
   "execution_count": 13,
   "id": "fd06cc49",
   "metadata": {},
   "outputs": [
    {
     "data": {
      "text/plain": [
       "array([0, 1, 2, 3, 4, 5, 6, 7, 8, 9])"
      ]
     },
     "execution_count": 13,
     "metadata": {},
     "output_type": "execute_result"
    }
   ],
   "source": [
    "np.arange(10)"
   ]
  },
  {
   "cell_type": "code",
   "execution_count": 14,
   "id": "93940e41",
   "metadata": {},
   "outputs": [
    {
     "data": {
      "text/plain": [
       "array([ 2,  3,  4,  5,  6,  7,  8,  9, 10, 11, 12, 13, 14, 15, 16, 17, 18,\n",
       "       19, 20, 21, 22, 23, 24, 25, 26, 27, 28, 29])"
      ]
     },
     "execution_count": 14,
     "metadata": {},
     "output_type": "execute_result"
    }
   ],
   "source": [
    "np.arange(2,30)"
   ]
  },
  {
   "cell_type": "markdown",
   "id": "3905398d",
   "metadata": {},
   "source": [
    "# interval"
   ]
  },
  {
   "cell_type": "code",
   "execution_count": 15,
   "id": "a6314589",
   "metadata": {},
   "outputs": [
    {
     "data": {
      "text/plain": [
       "array([ 2,  6, 10, 14, 18, 22, 26, 30])"
      ]
     },
     "execution_count": 15,
     "metadata": {},
     "output_type": "execute_result"
    }
   ],
   "source": [
    "np.arange(2,31,4)"
   ]
  },
  {
   "cell_type": "code",
   "execution_count": 16,
   "id": "9a619233",
   "metadata": {},
   "outputs": [
    {
     "data": {
      "text/plain": [
       "array([ 5, 10, 15, 20, 25, 30, 35, 40, 45, 50])"
      ]
     },
     "execution_count": 16,
     "metadata": {},
     "output_type": "execute_result"
    }
   ],
   "source": [
    "#table of 5\n",
    "np.arange(5,55,5)"
   ]
  },
  {
   "cell_type": "markdown",
   "id": "4f5214cf",
   "metadata": {},
   "source": [
    "# line space(provide same ans after taking interval or plus,minus )"
   ]
  },
  {
   "cell_type": "code",
   "execution_count": 17,
   "id": "bf577091",
   "metadata": {},
   "outputs": [
    {
     "data": {
      "text/plain": [
       "array([   2.        ,  168.33333333,  334.66666667,  501.        ,\n",
       "        667.33333333,  833.66666667, 1000.        ])"
      ]
     },
     "execution_count": 17,
     "metadata": {},
     "output_type": "execute_result"
    }
   ],
   "source": [
    "np.linspace(2,1000,num=7)"
   ]
  },
  {
   "cell_type": "markdown",
   "id": "a77ad28d",
   "metadata": {},
   "source": [
    "# specify the data type"
   ]
  },
  {
   "cell_type": "code",
   "execution_count": 18,
   "id": "fc45d14f",
   "metadata": {},
   "outputs": [
    {
     "data": {
      "text/plain": [
       "array([0, 0, 0, 0, 0, 0, 0, 0, 0, 0, 0, 0, 0, 0, 0, 0, 0, 0, 0, 0, 0, 0,\n",
       "       0, 0, 0, 0, 0, 0, 0, 0, 0, 0, 0, 0, 0, 0, 0, 0, 0, 0, 0, 0, 0, 0,\n",
       "       0, 0, 0, 0, 0, 0], dtype=int64)"
      ]
     },
     "execution_count": 18,
     "metadata": {},
     "output_type": "execute_result"
    }
   ],
   "source": [
    "np.zeros(50,dtype=np.int64)"
   ]
  },
  {
   "cell_type": "code",
   "execution_count": 19,
   "id": "7fc51662",
   "metadata": {},
   "outputs": [
    {
     "data": {
      "text/plain": [
       "array([ 1.11836315e-311,  1.11838302e-311,  1.43085760e-258,\n",
       "       -8.43041559e-201,  1.25162453e-308,  4.98900982e-273,\n",
       "        2.32902545e-320,  5.76061555e-220,  0.00000000e+000,\n",
       "       -2.30115195e-186, -1.55691449e-181,  1.05455513e+060,\n",
       "        1.25990589e-300,  0.00000000e+000,  1.56687421e-305,\n",
       "        5.53682373e-317,  6.02696856e-302,  2.86744456e-291,\n",
       "        3.71217721e-309,  8.96902931e-312,  2.10966031e-321,\n",
       "       -1.84022800e-157,  1.57695888e-296,  3.62861280e-312,\n",
       "       -4.86894341e-095, -3.19163853e-090,  1.05819621e-300,\n",
       "        1.38258698e-316, -5.29690186e-143,  1.92246382e-305,\n",
       "        0.00000000e+000,  2.40761655e-301, -2.24532119e-080,\n",
       "        9.06092203e-312, -1.14298739e-099,  3.52263885e-312,\n",
       "        8.44852254e-322, -1.49094609e-128,  1.05455515e+060,\n",
       "        1.25990589e-300,  0.00000000e+000,  1.56687425e-305,\n",
       "        5.53682373e-317, -1.18280255e-099,  3.75563560e-309,\n",
       "        8.96969243e-312,  2.10966031e-321,  2.40989507e-301,\n",
       "        3.62861280e-312, -1.65681559e-056])"
      ]
     },
     "execution_count": 19,
     "metadata": {},
     "output_type": "execute_result"
    }
   ],
   "source": [
    "np.empty(50,dtype=np.float64)"
   ]
  },
  {
   "cell_type": "markdown",
   "id": "581688ae",
   "metadata": {},
   "source": [
    "# Array functions"
   ]
  },
  {
   "cell_type": "code",
   "execution_count": 20,
   "id": "f5fc2270",
   "metadata": {},
   "outputs": [
    {
     "data": {
      "text/plain": [
       "array([ 10. ,  12. ,  15. ,   2. ,   4. ,   6. , 100. ,  10.3,   2.3,\n",
       "        55. ,   5. ])"
      ]
     },
     "execution_count": 20,
     "metadata": {},
     "output_type": "execute_result"
    }
   ],
   "source": [
    "import numpy as np\n",
    "l=np.array([10,12,15,2,4,6,100,10.3,2.3,55,5.0])\n",
    "l"
   ]
  },
  {
   "cell_type": "markdown",
   "id": "f49fe04b",
   "metadata": {},
   "source": [
    "# sorting"
   ]
  },
  {
   "cell_type": "code",
   "execution_count": 21,
   "id": "1e246554",
   "metadata": {},
   "outputs": [
    {
     "data": {
      "text/plain": [
       "array([  2. ,   2.3,   4. ,   5. ,   6. ,  10. ,  10.3,  12. ,  15. ,\n",
       "        55. , 100. ])"
      ]
     },
     "execution_count": 21,
     "metadata": {},
     "output_type": "execute_result"
    }
   ],
   "source": [
    "l.sort()\n",
    "l"
   ]
  },
  {
   "cell_type": "code",
   "execution_count": 22,
   "id": "db20f309",
   "metadata": {},
   "outputs": [
    {
     "data": {
      "text/plain": [
       "array([33. , 44. ,  5.5, 55. , 77. ])"
      ]
     },
     "execution_count": 22,
     "metadata": {},
     "output_type": "execute_result"
    }
   ],
   "source": [
    "b=np.array([33,44,5.5,55,77])\n",
    "b"
   ]
  },
  {
   "cell_type": "markdown",
   "id": "0b16c86e",
   "metadata": {},
   "source": [
    "# concatination(addition)"
   ]
  },
  {
   "cell_type": "code",
   "execution_count": 23,
   "id": "9c7b9ca5",
   "metadata": {},
   "outputs": [
    {
     "data": {
      "text/plain": [
       "array([  2. ,   2.3,   4. ,   5. ,   6. ,  10. ,  10.3,  12. ,  15. ,\n",
       "        55. , 100. ,  33. ,  44. ,   5.5,  55. ,  77. ])"
      ]
     },
     "execution_count": 23,
     "metadata": {},
     "output_type": "execute_result"
    }
   ],
   "source": [
    "c=np.concatenate((l,b))\n",
    "c"
   ]
  },
  {
   "cell_type": "code",
   "execution_count": 24,
   "id": "0f9979d8",
   "metadata": {},
   "outputs": [
    {
     "data": {
      "text/plain": [
       "array([  2. ,   2.3,   4. ,   5. ,   5.5,   6. ,  10. ,  10.3,  12. ,\n",
       "        15. ,  33. ,  44. ,  55. ,  55. ,  77. , 100. ])"
      ]
     },
     "execution_count": 24,
     "metadata": {},
     "output_type": "execute_result"
    }
   ],
   "source": [
    "c.sort()\n",
    "c"
   ]
  },
  {
   "cell_type": "code",
   "execution_count": 25,
   "id": "f5d71c38",
   "metadata": {},
   "outputs": [
    {
     "data": {
      "text/plain": [
       "array([2, 3, 4])"
      ]
     },
     "execution_count": 25,
     "metadata": {},
     "output_type": "execute_result"
    }
   ],
   "source": [
    "import numpy as np\n",
    "ab=np.array([2,3,4])\n",
    "ab"
   ]
  },
  {
   "cell_type": "code",
   "execution_count": 26,
   "id": "8816d738",
   "metadata": {},
   "outputs": [
    {
     "data": {
      "text/plain": [
       "array([4, 5, 4])"
      ]
     },
     "execution_count": 26,
     "metadata": {},
     "output_type": "execute_result"
    }
   ],
   "source": [
    "g=np . array([4,5,4])\n",
    "g"
   ]
  },
  {
   "cell_type": "code",
   "execution_count": 27,
   "id": "41cc761a",
   "metadata": {
    "scrolled": true
   },
   "outputs": [
    {
     "data": {
      "text/plain": [
       "array([2, 3, 4, 4, 5, 4])"
      ]
     },
     "execution_count": 27,
     "metadata": {},
     "output_type": "execute_result"
    }
   ],
   "source": [
    "np.concatenate((ab,g))\n"
   ]
  },
  {
   "cell_type": "markdown",
   "id": "5596750c",
   "metadata": {},
   "source": [
    "# two dimension (concatinations )"
   ]
  },
  {
   "cell_type": "code",
   "execution_count": 28,
   "id": "3fbf6a4e",
   "metadata": {},
   "outputs": [
    {
     "data": {
      "text/plain": [
       "array([[ 2,  3,  4],\n",
       "       [44,  5, 44]])"
      ]
     },
     "execution_count": 28,
     "metadata": {},
     "output_type": "execute_result"
    }
   ],
   "source": [
    "import numpy as np\n",
    "a=np . array([[2,3,4],[44,5,44]])\n",
    "a"
   ]
  },
  {
   "cell_type": "code",
   "execution_count": 29,
   "id": "7884aad3",
   "metadata": {},
   "outputs": [
    {
     "data": {
      "text/plain": [
       "array([[ 2,  5,  4],\n",
       "       [45, 55, 44]])"
      ]
     },
     "execution_count": 29,
     "metadata": {},
     "output_type": "execute_result"
    }
   ],
   "source": [
    "import numpy as np\n",
    "al=np . array([[2,5,4],[45,55,44]])\n",
    "al"
   ]
  },
  {
   "cell_type": "code",
   "execution_count": 30,
   "id": "f8e888a0",
   "metadata": {},
   "outputs": [
    {
     "data": {
      "text/plain": [
       "array([[ 2,  3,  4],\n",
       "       [44,  5, 44],\n",
       "       [ 2,  5,  4],\n",
       "       [45, 55, 44]])"
      ]
     },
     "execution_count": 30,
     "metadata": {},
     "output_type": "execute_result"
    }
   ],
   "source": [
    "zy=np.concatenate((a,al))\n",
    "zy"
   ]
  },
  {
   "cell_type": "markdown",
   "id": "8fd4b251",
   "metadata": {},
   "source": [
    "# how we can take concatination of two differnet dimension pairs (assinment)"
   ]
  },
  {
   "cell_type": "code",
   "execution_count": 31,
   "id": "5b519222",
   "metadata": {},
   "outputs": [
    {
     "data": {
      "text/plain": [
       "array([[ 2,  3,  4,  2,  5,  4],\n",
       "       [44,  5, 44, 45, 55, 44]])"
      ]
     },
     "execution_count": 31,
     "metadata": {},
     "output_type": "execute_result"
    }
   ],
   "source": [
    "np.concatenate((a,al),axis=1)"
   ]
  },
  {
   "cell_type": "code",
   "execution_count": 32,
   "id": "4efff7e1",
   "metadata": {},
   "outputs": [
    {
     "data": {
      "text/plain": [
       "array([10, 12, 15])"
      ]
     },
     "execution_count": 32,
     "metadata": {},
     "output_type": "execute_result"
    }
   ],
   "source": [
    "import numpy as np\n",
    "lp=np.array([10,12,15])\n",
    "lp"
   ]
  },
  {
   "cell_type": "code",
   "execution_count": 33,
   "id": "5c2312a5",
   "metadata": {},
   "outputs": [
    {
     "data": {
      "text/plain": [
       "array([[10, 12, 15],\n",
       "       [ 5, 77, 88]])"
      ]
     },
     "execution_count": 33,
     "metadata": {},
     "output_type": "execute_result"
    }
   ],
   "source": [
    "import numpy as np\n",
    "ld=np.array([[10,12,15],[5,77,88]])\n",
    "ld"
   ]
  },
  {
   "cell_type": "code",
   "execution_count": 34,
   "id": "91678274",
   "metadata": {},
   "outputs": [
    {
     "data": {
      "text/plain": [
       "array([[10, 12, 15],\n",
       "       [10, 12, 15],\n",
       "       [ 5, 77, 88]])"
      ]
     },
     "execution_count": 34,
     "metadata": {},
     "output_type": "execute_result"
    }
   ],
   "source": [
    "np.vstack((lp,ld))\n"
   ]
  },
  {
   "cell_type": "markdown",
   "id": "7351dc68",
   "metadata": {},
   "source": [
    "# stack"
   ]
  },
  {
   "cell_type": "code",
   "execution_count": 35,
   "id": "88686c04",
   "metadata": {},
   "outputs": [
    {
     "data": {
      "text/plain": [
       "array([[10, 12, 15],\n",
       "       [ 4,  5,  6]])"
      ]
     },
     "execution_count": 35,
     "metadata": {},
     "output_type": "execute_result"
    }
   ],
   "source": [
    "import numpy as np\n",
    "lp=np.array([[10,12,15],[4,5,6]])\n",
    "lp"
   ]
  },
  {
   "cell_type": "code",
   "execution_count": 36,
   "id": "cf0eb985",
   "metadata": {},
   "outputs": [
    {
     "data": {
      "text/plain": [
       "array([[10, 12, 15],\n",
       "       [55, 66, 77]])"
      ]
     },
     "execution_count": 36,
     "metadata": {},
     "output_type": "execute_result"
    }
   ],
   "source": [
    "import numpy as np\n",
    "lpp=np.array([[10,12,15],[55,66,77]])\n",
    "lpp"
   ]
  },
  {
   "cell_type": "code",
   "execution_count": 37,
   "id": "b37f7774",
   "metadata": {},
   "outputs": [
    {
     "data": {
      "text/plain": [
       "array([[10, 12, 15],\n",
       "       [ 4,  5,  6],\n",
       "       [10, 12, 15],\n",
       "       [55, 66, 77]])"
      ]
     },
     "execution_count": 37,
     "metadata": {},
     "output_type": "execute_result"
    }
   ],
   "source": [
    "pl=np.concatenate((lp,lpp),axis=0)\n",
    "pl"
   ]
  },
  {
   "cell_type": "code",
   "execution_count": 38,
   "id": "de43e220",
   "metadata": {},
   "outputs": [
    {
     "data": {
      "text/plain": [
       "array([[10, 12, 15],\n",
       "       [ 4,  5,  6]])"
      ]
     },
     "execution_count": 38,
     "metadata": {},
     "output_type": "execute_result"
    }
   ],
   "source": [
    "import numpy as np\n",
    "lp=np.array([[10,12,15],[4,5,6]])\n",
    "lp"
   ]
  },
  {
   "cell_type": "code",
   "execution_count": 39,
   "id": "7dac17be",
   "metadata": {},
   "outputs": [
    {
     "data": {
      "text/plain": [
       "array([[10, 12, 15],\n",
       "       [55, 66, 77]])"
      ]
     },
     "execution_count": 39,
     "metadata": {},
     "output_type": "execute_result"
    }
   ],
   "source": [
    "import numpy as np\n",
    "lpp=np.array([[10,12,15],[55,66,77]])\n",
    "lpp"
   ]
  },
  {
   "cell_type": "code",
   "execution_count": 40,
   "id": "49a2e5b9",
   "metadata": {},
   "outputs": [
    {
     "data": {
      "text/plain": [
       "array([[10, 12, 15, 10, 12, 15],\n",
       "       [ 4,  5,  6, 55, 66, 77]])"
      ]
     },
     "execution_count": 40,
     "metadata": {},
     "output_type": "execute_result"
    }
   ],
   "source": [
    "pl=np.concatenate((lp,lpp),axis=1)\n",
    "pl"
   ]
  },
  {
   "cell_type": "markdown",
   "id": "5adc62ea",
   "metadata": {},
   "source": [
    "# 3D array"
   ]
  },
  {
   "cell_type": "code",
   "execution_count": 41,
   "id": "e209e855",
   "metadata": {},
   "outputs": [
    {
     "data": {
      "text/plain": [
       "array([[[2, 7, 7, 8],\n",
       "        [3, 4, 5, 0]],\n",
       "\n",
       "       [[2, 7, 7, 5],\n",
       "        [3, 4, 5, 2]],\n",
       "\n",
       "       [[2, 7, 7, 6],\n",
       "        [3, 4, 5, 9]]])"
      ]
     },
     "execution_count": 41,
     "metadata": {},
     "output_type": "execute_result"
    }
   ],
   "source": [
    "import numpy as np\n",
    "al=np .array([[[2,7,7,8],\n",
    "               [3,4,5,0]],\n",
    "                        [[2,7,7,5],[3,4,5,2]],\n",
    "                                   [[2,7,7,6],[3,4,5,9]]])\n",
    "al"
   ]
  },
  {
   "cell_type": "markdown",
   "id": "1d7d5fc4",
   "metadata": {},
   "source": [
    "# how we can finf dimension"
   ]
  },
  {
   "cell_type": "code",
   "execution_count": 42,
   "id": "3c913461",
   "metadata": {},
   "outputs": [
    {
     "data": {
      "text/plain": [
       "3"
      ]
     },
     "execution_count": 42,
     "metadata": {},
     "output_type": "execute_result"
    }
   ],
   "source": [
    "al.ndim"
   ]
  },
  {
   "cell_type": "code",
   "execution_count": 43,
   "id": "54c6632e",
   "metadata": {},
   "outputs": [
    {
     "data": {
      "text/plain": [
       "array([[5, 6, 7],\n",
       "       [7, 8, 9]])"
      ]
     },
     "execution_count": 43,
     "metadata": {},
     "output_type": "execute_result"
    }
   ],
   "source": [
    "b=np.array([[5,6,7],[7,8,9]])\n",
    "b"
   ]
  },
  {
   "cell_type": "code",
   "execution_count": 44,
   "id": "83b86afa",
   "metadata": {},
   "outputs": [
    {
     "data": {
      "text/plain": [
       "2"
      ]
     },
     "execution_count": 44,
     "metadata": {},
     "output_type": "execute_result"
    }
   ],
   "source": [
    "b.ndim"
   ]
  },
  {
   "cell_type": "code",
   "execution_count": 45,
   "id": "35ed97a9",
   "metadata": {},
   "outputs": [
    {
     "data": {
      "text/plain": [
       "6"
      ]
     },
     "execution_count": 45,
     "metadata": {},
     "output_type": "execute_result"
    }
   ],
   "source": [
    "#size\n",
    "b.size"
   ]
  },
  {
   "cell_type": "code",
   "execution_count": 46,
   "id": "1aaad646",
   "metadata": {},
   "outputs": [
    {
     "data": {
      "text/plain": [
       "(3, 2, 4)"
      ]
     },
     "execution_count": 46,
     "metadata": {},
     "output_type": "execute_result"
    }
   ],
   "source": [
    "#shape\n",
    "al.shape"
   ]
  },
  {
   "cell_type": "code",
   "execution_count": 49,
   "id": "80905b19",
   "metadata": {},
   "outputs": [
    {
     "data": {
      "text/plain": [
       "array([0, 1, 2, 3, 4, 5, 6, 7, 8])"
      ]
     },
     "execution_count": 49,
     "metadata": {},
     "output_type": "execute_result"
    }
   ],
   "source": [
    "ll=np.arange(9)\n",
    "ll"
   ]
  },
  {
   "cell_type": "code",
   "execution_count": 52,
   "id": "c3f455a2",
   "metadata": {},
   "outputs": [
    {
     "data": {
      "text/plain": [
       "array([[0, 1, 2],\n",
       "       [3, 4, 5],\n",
       "       [6, 7, 8]])"
      ]
     },
     "execution_count": 52,
     "metadata": {},
     "output_type": "execute_result"
    }
   ],
   "source": [
    "#reshape\n",
    "ll.reshape(3,3)"
   ]
  },
  {
   "cell_type": "markdown",
   "id": "c72d0f4c",
   "metadata": {},
   "source": [
    "\n",
    "\n",
    "# 1D array to 2d array convertion\n"
   ]
  },
  {
   "cell_type": "code",
   "execution_count": 53,
   "id": "57247748",
   "metadata": {},
   "outputs": [
    {
     "data": {
      "text/plain": [
       "array([ 1,  2,  3, 45,  6,  7,  7])"
      ]
     },
     "execution_count": 53,
     "metadata": {},
     "output_type": "execute_result"
    }
   ],
   "source": [
    "lm=np.array([1,2,3,45,6,7,7,])\n",
    "lm"
   ]
  },
  {
   "cell_type": "code",
   "execution_count": 55,
   "id": "59176c4f",
   "metadata": {},
   "outputs": [
    {
     "data": {
      "text/plain": [
       "(7,)"
      ]
     },
     "execution_count": 55,
     "metadata": {},
     "output_type": "execute_result"
    }
   ],
   "source": [
    "lm.shape"
   ]
  },
  {
   "cell_type": "code",
   "execution_count": 56,
   "id": "63f09d78",
   "metadata": {},
   "outputs": [
    {
     "data": {
      "text/plain": [
       "array([[ 1,  2,  3, 45,  6,  7,  7]])"
      ]
     },
     "execution_count": 56,
     "metadata": {},
     "output_type": "execute_result"
    }
   ],
   "source": [
    "#row wise convertion\n",
    "ln=lm[np.newaxis,:]\n",
    "ln"
   ]
  },
  {
   "cell_type": "code",
   "execution_count": 57,
   "id": "8e7f12aa",
   "metadata": {},
   "outputs": [
    {
     "data": {
      "text/plain": [
       "array([[ 1],\n",
       "       [ 2],\n",
       "       [ 3],\n",
       "       [45],\n",
       "       [ 6],\n",
       "       [ 7],\n",
       "       [ 7]])"
      ]
     },
     "execution_count": 57,
     "metadata": {},
     "output_type": "execute_result"
    }
   ],
   "source": [
    "#colomnwise cinvertion\n",
    "ln=lm[:,np.newaxis]\n",
    "ln"
   ]
  },
  {
   "cell_type": "code",
   "execution_count": 58,
   "id": "f641fef6",
   "metadata": {},
   "outputs": [
    {
     "data": {
      "text/plain": [
       "(7, 1)"
      ]
     },
     "execution_count": 58,
     "metadata": {},
     "output_type": "execute_result"
    }
   ],
   "source": [
    "ln.shape"
   ]
  },
  {
   "cell_type": "markdown",
   "id": "1493b491",
   "metadata": {},
   "source": [
    "# slicing/indexing "
   ]
  },
  {
   "cell_type": "code",
   "execution_count": 60,
   "id": "752bd196",
   "metadata": {},
   "outputs": [
    {
     "data": {
      "text/plain": [
       "array([[ 1],\n",
       "       [ 2],\n",
       "       [ 3],\n",
       "       [45],\n",
       "       [ 6],\n",
       "       [ 7],\n",
       "       [ 7]])"
      ]
     },
     "execution_count": 60,
     "metadata": {},
     "output_type": "execute_result"
    }
   ],
   "source": [
    "ln"
   ]
  },
  {
   "cell_type": "code",
   "execution_count": 61,
   "id": "490aa28b",
   "metadata": {},
   "outputs": [
    {
     "data": {
      "text/plain": [
       "array([[1],\n",
       "       [2],\n",
       "       [3]])"
      ]
     },
     "execution_count": 61,
     "metadata": {},
     "output_type": "execute_result"
    }
   ],
   "source": [
    "ln[0:3]"
   ]
  },
  {
   "cell_type": "code",
   "execution_count": 62,
   "id": "1c3c6313",
   "metadata": {},
   "outputs": [
    {
     "data": {
      "text/plain": [
       "array([[ 2,  3,  4],\n",
       "       [44,  5, 44]])"
      ]
     },
     "execution_count": 62,
     "metadata": {},
     "output_type": "execute_result"
    }
   ],
   "source": [
    "a"
   ]
  },
  {
   "cell_type": "code",
   "execution_count": 63,
   "id": "821586e3",
   "metadata": {},
   "outputs": [
    {
     "data": {
      "text/plain": [
       "array([[  8,  12,  16],\n",
       "       [176,  20, 176]])"
      ]
     },
     "execution_count": 63,
     "metadata": {},
     "output_type": "execute_result"
    }
   ],
   "source": [
    "a*4"
   ]
  },
  {
   "cell_type": "code",
   "execution_count": 64,
   "id": "934e775b",
   "metadata": {},
   "outputs": [
    {
     "data": {
      "text/plain": [
       "array([[ 5,  6,  7],\n",
       "       [47,  8, 47]])"
      ]
     },
     "execution_count": 64,
     "metadata": {},
     "output_type": "execute_result"
    }
   ],
   "source": [
    "a+3"
   ]
  },
  {
   "cell_type": "code",
   "execution_count": 66,
   "id": "e7c70727",
   "metadata": {},
   "outputs": [
    {
     "data": {
      "text/plain": [
       "71"
      ]
     },
     "execution_count": 66,
     "metadata": {},
     "output_type": "execute_result"
    }
   ],
   "source": [
    "#sum\n",
    "ln.sum()"
   ]
  },
  {
   "cell_type": "code",
   "execution_count": 69,
   "id": "a511c82e",
   "metadata": {},
   "outputs": [
    {
     "data": {
      "text/plain": [
       "10.142857142857142"
      ]
     },
     "execution_count": 69,
     "metadata": {},
     "output_type": "execute_result"
    }
   ],
   "source": [
    "#mean\n",
    "ln.mean()"
   ]
  },
  {
   "cell_type": "code",
   "execution_count": 4,
   "id": "7236562f",
   "metadata": {},
   "outputs": [
    {
     "data": {
      "text/plain": [
       "array([1, 2, 3, 5, 7, 6])"
      ]
     },
     "execution_count": 4,
     "metadata": {},
     "output_type": "execute_result"
    }
   ],
   "source": [
    "# reversing an array \n",
    "import numpy as np\n",
    "h=np.array([1,2,3,5,7,6])\n",
    "h"
   ]
  },
  {
   "cell_type": "code",
   "execution_count": 5,
   "id": "c41304d0",
   "metadata": {},
   "outputs": [
    {
     "data": {
      "text/plain": [
       "array([6, 7, 5, 3, 2, 1])"
      ]
     },
     "execution_count": 5,
     "metadata": {},
     "output_type": "execute_result"
    }
   ],
   "source": [
    "np.flip(h)\n"
   ]
  },
  {
   "cell_type": "code",
   "execution_count": null,
   "id": "3574f705",
   "metadata": {},
   "outputs": [],
   "source": []
  }
 ],
 "metadata": {
  "kernelspec": {
   "display_name": "Python 3 (ipykernel)",
   "language": "python",
   "name": "python3"
  },
  "language_info": {
   "codemirror_mode": {
    "name": "ipython",
    "version": 3
   },
   "file_extension": ".py",
   "mimetype": "text/x-python",
   "name": "python",
   "nbconvert_exporter": "python",
   "pygments_lexer": "ipython3",
   "version": "3.11.3"
  }
 },
 "nbformat": 4,
 "nbformat_minor": 5
}
