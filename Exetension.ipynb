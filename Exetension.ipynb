{
 "cells": [
  {
   "cell_type": "markdown",
   "metadata": {},
   "source": [
    "### Top Extension in python?\n",
    "- kite Autocomplete(for code sugestion)\n",
    "- python(use for run python code on vscode)\n",
    "- Python Extension pack in (teli packuse for       suggestion).\n",
    "- python Envirnment Manager(show the Environment).\n",
    "- Arepl for python(when you write code it will quickly show you output and in case of error provide solution)\n",
    "- jopyter note book \n",
    "- jopyter Keymap(perform function like when you press on A IT WILL move you in next cell)\n",
    "- jopyter note book Renderers(use for showing graph)\n",
    "- Mark down all in one (all mark prog available )\n",
    "- Mark_down pdf\n",
    "- intelicode(suggestion for code )\n",
    "- GitHub copilot\n",
    "- Git hub pull request and issues (show all repository )\n",
    "- if your python file is not work(go to below click on the blue bar and then select stream lit)\n",
    "- Remote shh (controlling super computer remotly coding is perform on your laptop but actuall work is on your super computer)"
   ]
  },
  {
   "cell_type": "markdown",
   "metadata": {},
   "source": []
  }
 ],
 "metadata": {
  "language_info": {
   "name": "python"
  },
  "orig_nbformat": 4
 },
 "nbformat": 4,
 "nbformat_minor": 2
}
