{
 "cells": [
  {
   "cell_type": "markdown",
   "metadata": {},
   "source": [
    "### what is open_cv ?\n",
    "It is one of the most imortant technique which is used for recognization or (face detection etc).A real life example of open_cv detect the car no plates on roads \n",
    "\n",
    "### what is image?\n",
    "A i amge is a collection of pixels each pixels stores the three major RGB colors and the combination of this colors maKes a 16 \n",
    "Millions colors Each RGB color stroes a 8 bits.\n",
    "\n",
    "### what is a Bit deapth?\n",
    "It is used for determine the no of colors in a images ...\n",
    "\n",
    "### type of images \n",
    "- gray \n",
    "- RGB \n",
    "- Black and white(0 for black,1 white)\n",
    "### how to find the no of tones in an image (colors,finds )?\n",
    "- simple taking the square root of image bits \n",
    "- 1 bit (2 rase power 1 )=2 colors \n",
    "\n",
    "### install the pythons and visual_studio for working on open_cv\n",
    "\n",
    "### which command are used for open_cv installation?\n",
    "- pip insatll opencv_python...on terminal"
   ]
  },
  {
   "cell_type": "markdown",
   "metadata": {},
   "source": [
    "### reading and displying image ( chapter 1)"
   ]
  },
  {
   "cell_type": "code",
   "execution_count": 1,
   "metadata": {},
   "outputs": [
    {
     "data": {
      "text/plain": [
       "-1"
      ]
     },
     "execution_count": 1,
     "metadata": {},
     "output_type": "execute_result"
    }
   ],
   "source": [
    "## library import\n",
    "import cv2 as cv\n",
    "img=cv.imread(\"resorces/download.jpg\")\n",
    "cv.imshow(\"first image\",img)\n",
    "### image fastly show and ghayib(add delay by using )\n",
    "cv.waitKey(0)"
   ]
  },
  {
   "cell_type": "markdown",
   "metadata": {},
   "source": [
    "### chpter no 2 ( Resize image )"
   ]
  },
  {
   "cell_type": "code",
   "execution_count": 16,
   "metadata": {},
   "outputs": [],
   "source": [
    "### chapter two (why we us enumpy in this chapter?)\n",
    "### numpy is use for convert into the image into different shapes \n",
    "import cv2 as cv\n",
    "img1=cv.imread(\"resorces/download.jpg\")\n",
    "img1=cv.resize(img,(800,600)) ## use for sizing of image \n",
    "cv.imshow(\"first image\",img) ## first image \n",
    "cv.imshow(\"second image \",img1)### second image\n",
    "\n",
    "cv.waitKey(0) ## delay for image \n",
    "cv.destroyAllWindows()## use for destroying all windiws \n"
   ]
  },
  {
   "cell_type": "markdown",
   "metadata": {},
   "source": [
    "### chapter no 3 :convertion of image into gray scale "
   ]
  },
  {
   "cell_type": "code",
   "execution_count": 1,
   "metadata": {},
   "outputs": [
    {
     "data": {
      "text/plain": [
       "<function destroyAllWindows>"
      ]
     },
     "execution_count": 1,
     "metadata": {},
     "output_type": "execute_result"
    },
    {
     "ename": "",
     "evalue": "",
     "output_type": "error",
     "traceback": [
      "\u001b[1;31mThe Kernel crashed while executing code in the the current cell or a previous cell. Please review the code in the cell(s) to identify a possible cause of the failure. Click <a href='https://aka.ms/vscodeJupyterKernelCrash'>here</a> for more info. View Jupyter <a href='command:jupyter.viewOutput'>log</a> for further details."
     ]
    }
   ],
   "source": [
    "import cv2 as cv\n",
    "from cv2 import cvtColor\n",
    "img=cv.imread(\"resorces/download.jpg\")\n",
    "re_size=cv.resize(img,(800,600))\n",
    "gray_scale=cv.cvtColor(img,cv.COLOR_BGR2GRAY)   \n",
    "cv.imshow(\"gray image\",gray_scale)\n",
    "cv.imshow(\"first image\",img)\n",
    "cv.waitKey(0)  \n",
    "cv.destroyAllWindows\n"
   ]
  },
  {
   "cell_type": "code",
   "execution_count": null,
   "metadata": {},
   "outputs": [],
   "source": []
  }
 ],
 "metadata": {
  "kernelspec": {
   "display_name": "Python 3",
   "language": "python",
   "name": "python3"
  },
  "language_info": {
   "codemirror_mode": {
    "name": "ipython",
    "version": 3
   },
   "file_extension": ".py",
   "mimetype": "text/x-python",
   "name": "python",
   "nbconvert_exporter": "python",
   "pygments_lexer": "ipython3",
   "version": "3.10.1"
  },
  "orig_nbformat": 4
 },
 "nbformat": 4,
 "nbformat_minor": 2
}
