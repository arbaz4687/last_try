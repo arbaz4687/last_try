{
 "cells": [
  {
   "cell_type": "markdown",
   "metadata": {},
   "source": [
    "### chpt no## 4(convert image into blak AND WHITE)"
   ]
  },
  {
   "cell_type": "code",
   "execution_count": 1,
   "metadata": {},
   "outputs": [],
   "source": [
    "import cv2  as cv\n",
    "import cv2 as cvtColor\n",
    "### image read \n",
    "img=cv.imread(\"resorces/download.jpg\")\n",
    "gray=cv.cvtColor(img,cv.COLOR_BGR2GRAY)\n",
    "### CONVERTION IMAGE INTO BLACK AND WHITE \n",
    "(thresh,binary)=cv.threshold(gray,127,255,cv.THRESH_BINARY) ## black and white convertion\n",
    "cv.imshow(\"first image \",img)\n",
    "cv.imshow(\"SECOND image \",gray)\n",
    "cv.imshow(\"THIRD image \",binary)\n",
    "cv.waitKey(0)\n",
    "cv.destroyAllWindows"
   ]
  },
  {
   "cell_type": "markdown",
   "metadata": {},
   "source": [
    "### Chptr no## 5 (image writting)"
   ]
  },
  {
   "cell_type": "code",
   "execution_count": null,
   "metadata": {},
   "outputs": [
    {
     "data": {
      "text/plain": [
       "<function destroyAllWindows>"
      ]
     },
     "execution_count": 9,
     "metadata": {},
     "output_type": "execute_result"
    }
   ],
   "source": [
    "import cv2 as cv\n",
    "img=cv.imread(\"resorces/download.jpg\")\n",
    "gray=cv.cvtColor(img,cv.COLOR_BGR2GRAY)\n",
    "### CONVERTION OF Image into any formate (jpj,png etc)\n",
    "cv.imwrite('image_gray.png',gray)## if you want change your resource mean save image the only use resources /\n",
    "cv.imshow(\"first image \",img)\n",
    "cv.imshow(\"SECOND image \",gray)\n",
    "# cv.imwrite('resources/image_gray.png',binary)## use for directly save image in resources  \n",
    "# cv.imwrite('resources/image_gray.png',gray)\n",
    "\n",
    "## changing the size of any image \n",
    "cv.resize(gray,(1020,220))\n",
    "cv.resize(img,(400,220))\n",
    "cv.waitKey(0)\n",
    "cv.destroyAllWindows"
   ]
  },
  {
   "cell_type": "markdown",
   "metadata": {},
   "source": [
    "### chpter no## 6(\"reading a video\")"
   ]
  },
  {
   "cell_type": "code",
   "execution_count": 1,
   "metadata": {},
   "outputs": [
    {
     "name": "stdout",
     "output_type": "stream",
     "text": [
      "error in video\n"
     ]
    }
   ],
   "source": [
    "import cv2 as cv\n",
    "cap=cv.VideoCapture(\"WIN_20230822_11_01_26_Pro.mp4\")\n",
    "## checking the video is successfull upload or note \n",
    "if  (cap.isOpened()==False):\n",
    "   print(\"error in video\") ### no error in video \n",
    "\n",
    "### Reading and playing video \n",
    "\n",
    "while(cap.isOpened()):\n",
    "       ret,frame=cap.read() ## return \n",
    "       if ret == True: ### read is done \n",
    "         cv.imshow(\"video\",frame)\n",
    "       if cv.waitKey(1) & 0xff==ord(\"q\"):\n",
    "        break\n",
    "       else:  ### if no video is find the break this function\n",
    "            break\n",
    "cap.release()  ## use for close video\n",
    "cv.destroyAllWindows()\n",
    "\n",
    "   "
   ]
  },
  {
   "cell_type": "markdown",
   "metadata": {},
   "source": [
    "### chpter no 07 (converting video into black and white )"
   ]
  },
  {
   "cell_type": "code",
   "execution_count": 18,
   "metadata": {},
   "outputs": [],
   "source": [
    "# import cv2 as cv\n",
    "# ## import cv2 as cvColor\n",
    "# cap=cv.VideoCapture(\"WIN_20230822_11_01_26_Pro.mp4\")\n",
    "# while(True):\n",
    "#    ( ret,frame)=cap.read()\n",
    "   \n",
    "#    grayframe=cv.cvtColor(frame,cv.COLOR_BGR2GRAY)\n",
    "#    ## (thresh,binary)=cv.threshold(grayframe,127,255,cv.THRESH_BINARY) \n",
    "#    if ret == True: ### read is done \n",
    "#        cv.imshow(\"video\",grayframe)\n",
    "#        if cv.waitKey(1) & 0xff==ord(\"q\"):\n",
    "#         break\n",
    "#    else:  ### if no video is find the break this function\n",
    "#        break\n",
    "# cap.release()  ## use for close video\n",
    "# cv.destroyAllWindows()\n",
    "\n",
    "# cap.release()  ## use for close video\n",
    "# cv.destroyAllWindows()\n"
   ]
  },
  {
   "cell_type": "markdown",
   "metadata": {},
   "source": [
    "### ch no:8 (how to convert the video into mp4 ,avi)"
   ]
  },
  {
   "cell_type": "code",
   "execution_count": 1,
   "metadata": {},
   "outputs": [
    {
     "ename": "",
     "evalue": "",
     "output_type": "error",
     "traceback": [
      "\u001b[1;31mThe Kernel crashed while executing code in the the current cell or a previous cell. Please review the code in the cell(s) to identify a possible cause of the failure. Click <a href='https://aka.ms/vscodeJupyterKernelCrash'>here</a> for more info. View Jupyter <a href='command:jupyter.viewOutput'>log</a> for further details."
     ]
    }
   ],
   "source": [
    "import cv2 as cv\n",
    "## read image \n",
    "cap=cv.VideoCapture(\"WIN_20230822_11_01_26_Pro.mp4\")\n",
    "## set the hight and width of video\n",
    "frame_width=int(cap.get(3)) ## always use 3 \n",
    "frame_height=int(cap.get(4))### and 4 is here\n",
    "## use to convvert the video\n",
    "out=cv.VideoWriter (\"Out_video.avi\",cv.VideoWriter_fourcc(\"M\",\"j\",\"p\",\"G\"),10,(frame_width,frame_height),isColor=False)\n",
    "\n",
    "while (True):\n",
    "    (ret,frame)=cap.read()\n",
    "    grayframe=cv.cvtColor(frame,cv.COLOR_BGR2GRAY)\n",
    "    if ret==True:\n",
    "        out.write(frame)### use for written frame \n",
    "        cv.imshow(\"video\",grayframe)\n",
    "        ## add wait key for quite\n",
    "        if cv.waitKey(1) & 0xff==ord(\"q\"):\n",
    "            break\n",
    "        else:\n",
    "            break\n",
    "        cap.release()\n",
    "        out.release()\n",
    "        cv.destroyAllWindows()"
   ]
  },
  {
   "cell_type": "code",
   "execution_count": null,
   "metadata": {},
   "outputs": [],
   "source": []
  }
 ],
 "metadata": {
  "kernelspec": {
   "display_name": "Python 3",
   "language": "python",
   "name": "python3"
  },
  "language_info": {
   "codemirror_mode": {
    "name": "ipython",
    "version": 3
   },
   "file_extension": ".py",
   "mimetype": "text/x-python",
   "name": "python",
   "nbconvert_exporter": "python",
   "pygments_lexer": "ipython3",
   "version": "3.10.1"
  },
  "orig_nbformat": 4
 },
 "nbformat": 4,
 "nbformat_minor": 2
}
