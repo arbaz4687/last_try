{
 "cells": [
  {
   "cell_type": "markdown",
   "metadata": {},
   "source": [
    "### lecture no#9(how to caputer web cam in open_cv)\n"
   ]
  },
  {
   "cell_type": "code",
   "execution_count": 4,
   "metadata": {},
   "outputs": [],
   "source": [
    "## import libraries\n",
    "import cv2 as cv\n",
    "import numpy as np\n",
    "### read the camera \n",
    "cap=cv.VideoCapture(0) ### 0 mean 1 web cam ,1 write mean web cam 2\n",
    "\n",
    "# if(cap.isOpened()==False):\n",
    "#  print(\"there is an error\")\n",
    "## read this cam untill end \n",
    "while(cap.isOpened()):\n",
    "    ## caputer frame bu frame\n",
    "    ret,frame=cap.read()\n",
    "    if ret==True:\n",
    "      # display the frame \n",
    "       cv.imshow(\"Frame\",frame)\n",
    "       if cv.waitKey(1) & 0xff == ord(\"q\"):\n",
    "            break\n",
    "    else:\n",
    "      break\n",
    "    ### USE FOR DESTROY THE Window \n",
    "    cap.release()\n",
    "    cv.destroyAllWindows()"
   ]
  },
  {
   "cell_type": "markdown",
   "metadata": {},
   "source": [
    "### chater no 10(convert the camera into different colors)\n"
   ]
  },
  {
   "cell_type": "code",
   "execution_count": 11,
   "metadata": {},
   "outputs": [],
   "source": [
    "import cv2 as cv\n",
    "import numpy as np\n",
    "cap=cv.VideoCapture(0)\n",
    "\n",
    "while(True):\n",
    "       (ret,frame)=cap.read()\n",
    "       ## convert camera into gray\n",
    "       gray_frame=cv.cvtColor(frame,cv.COLOR_BGR2GRAY)\n",
    "       cv.imshow(\"orignal\",frame)\n",
    "       cv.imshow(\"orignal\",frame)\n",
    "       cv.imshow(\"gray\",gray_frame)\n",
    "       if cv.waitKey(1) & 0xff == ord(\"q\"):\n",
    "            break\n",
    "       else:\n",
    "            break\n",
    "    ### USE FOR DESTROY THE Window \n",
    "cap.release()\n",
    "cv.destroyAllWindows()\n"
   ]
  },
  {
   "cell_type": "code",
   "execution_count": 12,
   "metadata": {},
   "outputs": [],
   "source": [
    "### convertion of camera into black and white \n",
    "import cv2 as cv\n",
    "import numpy as np\n",
    "cap=cv.VideoCapture(0)\n",
    "\n",
    "while(True):\n",
    "       (ret,frame)=cap.read()\n",
    "       ## convert camera into gray\n",
    "       gray_frame=cv.cvtColor(frame,cv.COLOR_BGR2GRAY)\n",
    "       (thresh,binary)=cv.threshold(gray_frame,127,255,cv.THRESH_BINARY)\n",
    "       \n",
    "       cv.imshow(\"orignal\",frame)\n",
    "       cv.imshow(\"gray\",gray_frame)\n",
    "       cv.imshow(\"bin\",binary)\n",
    "       if cv.waitKey(1) & 0xff == ord(\"q\"):\n",
    "            break\n",
    "       else:\n",
    "            break\n",
    "    ### USE FOR DESTROY THE Window \n",
    "cap.release()\n",
    "cv.destroyAllWindows()"
   ]
  },
  {
   "cell_type": "markdown",
   "metadata": {},
   "source": [
    "### ch no# 11(how to write the video during reading)\n",
    "running video adding some operation such as convert into black_and_white,gray etc.."
   ]
  },
  {
   "cell_type": "code",
   "execution_count": 3,
   "metadata": {},
   "outputs": [],
   "source": [
    "## writing videos from cam\n",
    "import cv2 as cv\n",
    "import numpy as np\n",
    "## read image \n",
    "cap=cv.VideoCapture(0)\n",
    "## set the hight and width of video\n",
    "frame_width=int(cap.get(3)) ## always use 3 \n",
    "frame_height=int(cap.get(4))### and 4 is here\n",
    "## use to convvert the video\n",
    "out=cv.VideoWriter (\"resource/cam_video.avi\",cv.VideoWriter_fourcc(\"M\",\"j\",\"p\",\"G\"),10,(frame_width,frame_height))\n",
    "\n",
    "while (True):\n",
    "    (ret,frame)=cap.read()\n",
    "    # grayframe=cv.cvtColor(frame,cv.COLOR_BGR2GRAY)\n",
    "    if ret==True:\n",
    "        out.write(frame)### use for written frame \n",
    "        cv.imshow(\"video\",frame)\n",
    "        ## add wait key for quite\n",
    "        if cv.waitKey(1) & 0xff==ord(\"q\"):\n",
    "            break\n",
    "        else:\n",
    "            break\n",
    "        cap.release()\n",
    "        out.release()\n",
    "        cv.destroyAllWindows()"
   ]
  },
  {
   "cell_type": "code",
   "execution_count": 4,
   "metadata": {},
   "outputs": [
    {
     "ename": "",
     "evalue": "",
     "output_type": "error",
     "traceback": [
      "\u001b[1;31mThe Kernel crashed while executing code in the the current cell or a previous cell. Please review the code in the cell(s) to identify a possible cause of the failure. Click <a href='https://aka.ms/vscodeJupyterKernelCrash'>here</a> for more info. View Jupyter <a href='command:jupyter.viewOutput'>log</a> for further details."
     ]
    }
   ],
   "source": [
    "## writing videos from cam(running video adding some operation such as convert into black_and_white,gray etc...)\n",
    "import cv2 as cv\n",
    "import numpy as np\n",
    "## read image \n",
    "cap=cv.VideoCapture(0)\n",
    "## set the hight and width of video\n",
    "frame_width=int(cap.get(3)) ## always use 3 \n",
    "frame_height=int(cap.get(4))### and 4 is here\n",
    "## use to convvert the video\n",
    "out=cv.VideoWriter (\"resource/cam_video.avi\",cv.VideoWriter_fourcc(\"M\",\"j\",\"p\",\"G\"),10,(frame_width,frame_height))\n",
    "\n",
    "while (True):\n",
    "    (ret,frame)=cap.read()\n",
    "    grayframe=cv.cvtColor(frame,cv.COLOR_BGR2GRAY)\n",
    "    if ret==True:\n",
    "        out.write(frame)### use for written frame \n",
    "        cv.imshow(\"video\",grayframe)\n",
    "        ## add wait key for quite\n",
    "        if cv.waitKey(1) & 0xff==ord(\"q\"):\n",
    "            break\n",
    "        else:\n",
    "            break\n",
    "        cap.release()\n",
    "        out.release()\n",
    "        cv.destroyAllWindows()"
   ]
  },
  {
   "cell_type": "markdown",
   "metadata": {},
   "source": [
    "##### IN ABOVE CODE 10 IS USED FOR CONTROLLING THE FRAME RATE OF VIDEO"
   ]
  },
  {
   "cell_type": "markdown",
   "metadata": {},
   "source": []
  }
 ],
 "metadata": {
  "kernelspec": {
   "display_name": "Python 3",
   "language": "python",
   "name": "python3"
  },
  "language_info": {
   "codemirror_mode": {
    "name": "ipython",
    "version": 3
   },
   "file_extension": ".py",
   "mimetype": "text/x-python",
   "name": "python",
   "nbconvert_exporter": "python",
   "pygments_lexer": "ipython3",
   "version": "3.10.1"
  },
  "orig_nbformat": 4
 },
 "nbformat": 4,
 "nbformat_minor": 2
}
