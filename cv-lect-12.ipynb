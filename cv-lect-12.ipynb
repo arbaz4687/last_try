{
 "cells": [
  {
   "cell_type": "markdown",
   "metadata": {},
   "source": [
    "### ch no# 22 (face detection in images and videos )"
   ]
  },
  {
   "cell_type": "code",
   "execution_count": 8,
   "metadata": {},
   "outputs": [
    {
     "ename": "error",
     "evalue": "OpenCV(4.8.0) D:\\a\\opencv-python\\opencv-python\\opencv\\modules\\objdetect\\src\\cascadedetect.cpp:1689: error: (-215:Assertion failed) !empty() in function 'cv::CascadeClassifier::detectMultiScale'\n",
     "output_type": "error",
     "traceback": [
      "\u001b[1;31m---------------------------------------------------------------------------\u001b[0m",
      "\u001b[1;31merror\u001b[0m                                     Traceback (most recent call last)",
      "\u001b[1;32mc:\\Users\\Arbaz Arshad\\Desktop\\open_cv\\cv-lect-12.ipynb Cell 2\u001b[0m line \u001b[0;36m1\n\u001b[0;32m     <a href='vscode-notebook-cell:/c%3A/Users/Arbaz%20Arshad/Desktop/open_cv/cv-lect-12.ipynb#W4sZmlsZQ%3D%3D?line=9'>10</a>\u001b[0m gray_img\u001b[39m=\u001b[39mcv\u001b[39m.\u001b[39mcvtColor(img,cv\u001b[39m.\u001b[39mCOLOR_RGB2GRAY)\n\u001b[0;32m     <a href='vscode-notebook-cell:/c%3A/Users/Arbaz%20Arshad/Desktop/open_cv/cv-lect-12.ipynb#W4sZmlsZQ%3D%3D?line=10'>11</a>\u001b[0m \u001b[39m# detect face on gray image\u001b[39;00m\n\u001b[1;32m---> <a href='vscode-notebook-cell:/c%3A/Users/Arbaz%20Arshad/Desktop/open_cv/cv-lect-12.ipynb#W4sZmlsZQ%3D%3D?line=11'>12</a>\u001b[0m faces\u001b[39m=\u001b[39mface_cascade\u001b[39m.\u001b[39;49mdetectMultiScale(gray_img,\u001b[39m1.1\u001b[39;49m,\u001b[39m4\u001b[39;49m)\n\u001b[0;32m     <a href='vscode-notebook-cell:/c%3A/Users/Arbaz%20Arshad/Desktop/open_cv/cv-lect-12.ipynb#W4sZmlsZQ%3D%3D?line=12'>13</a>\u001b[0m \u001b[39m#draw a Rectangle on face\u001b[39;00m\n\u001b[0;32m     <a href='vscode-notebook-cell:/c%3A/Users/Arbaz%20Arshad/Desktop/open_cv/cv-lect-12.ipynb#W4sZmlsZQ%3D%3D?line=13'>14</a>\u001b[0m \u001b[39mfor\u001b[39;00m(x,y,w,h) \u001b[39min\u001b[39;00m faces:\n",
      "\u001b[1;31merror\u001b[0m: OpenCV(4.8.0) D:\\a\\opencv-python\\opencv-python\\opencv\\modules\\objdetect\\src\\cascadedetect.cpp:1689: error: (-215:Assertion failed) !empty() in function 'cv::CascadeClassifier::detectMultiScale'\n"
     ]
    }
   ],
   "source": [
    "import cv2 as cv\n",
    "#create a cascade(import a classifier model)\n",
    "face_cascade=cv.CascadeClassifier(\"resources/haarcascade_frontalfsace_default.xml\")\n",
    "\n",
    "# read an image \n",
    "img=cv.imread(\"download (1).jpg\")\n",
    "#RESIZE image\n",
    "img=cv.resize(img,(591,886))\n",
    "# convert into gray scale \n",
    "gray_img=cv.cvtColor(img,cv.COLOR_RGB2GRAY)\n",
    "# detect face on gray image\n",
    "faces=face_cascade.detectMultiScale(gray_img,1.1,4)\n",
    "#draw a Rectangle on face\n",
    "for(x,y,w,h) in faces:\n",
    "    cv.rectangle(img,(x,y),(x+w,y+h),(255,0,0),2)# after img poin1 ,point 2(height,width),color ,thikness\n",
    "\n",
    "\n",
    "# save image into another extension\n",
    "cv.imwrite(\"resorces/download (1).png\",img)\n",
    "cv.imshow(\"orignal\",img)\n",
    "cv.waitKey(0)\n",
    "cv.destroyAllWindows()"
   ]
  },
  {
   "cell_type": "markdown",
   "metadata": {},
   "source": []
  },
  {
   "cell_type": "code",
   "execution_count": null,
   "metadata": {},
   "outputs": [],
   "source": []
  }
 ],
 "metadata": {
  "kernelspec": {
   "display_name": "Python 3",
   "language": "python",
   "name": "python3"
  },
  "language_info": {
   "codemirror_mode": {
    "name": "ipython",
    "version": 3
   },
   "file_extension": ".py",
   "mimetype": "text/x-python",
   "name": "python",
   "nbconvert_exporter": "python",
   "pygments_lexer": "ipython3",
   "version": "3.10.1"
  },
  "orig_nbformat": 4
 },
 "nbformat": 4,
 "nbformat_minor": 2
}
