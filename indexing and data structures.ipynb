{
 "cells": [
  {
   "cell_type": "markdown",
   "id": "7d84abd2",
   "metadata": {},
   "source": [
    "# indexing"
   ]
  },
  {
   "cell_type": "code",
   "execution_count": 9,
   "id": "8ed73629",
   "metadata": {},
   "outputs": [],
   "source": [
    "# make a string\n",
    "a=\"samosa  pakora\""
   ]
  },
  {
   "cell_type": "code",
   "execution_count": 10,
   "id": "392ed269",
   "metadata": {},
   "outputs": [
    {
     "data": {
      "text/plain": [
       "'samosa  pakora'"
      ]
     },
     "execution_count": 10,
     "metadata": {},
     "output_type": "execute_result"
    }
   ],
   "source": [
    "a"
   ]
  },
  {
   "cell_type": "code",
   "execution_count": 11,
   "id": "5b60e644",
   "metadata": {},
   "outputs": [
    {
     "data": {
      "text/plain": [
       "'s'"
      ]
     },
     "execution_count": 11,
     "metadata": {},
     "output_type": "execute_result"
    }
   ],
   "source": [
    "a[0]"
   ]
  },
  {
   "cell_type": "code",
   "execution_count": 13,
   "id": "c5185770",
   "metadata": {},
   "outputs": [
    {
     "data": {
      "text/plain": [
       "'a'"
      ]
     },
     "execution_count": 13,
     "metadata": {},
     "output_type": "execute_result"
    }
   ],
   "source": [
    "a[1]"
   ]
  },
  {
   "cell_type": "code",
   "execution_count": 14,
   "id": "46746110",
   "metadata": {},
   "outputs": [
    {
     "data": {
      "text/plain": [
       "'o'"
      ]
     },
     "execution_count": 14,
     "metadata": {},
     "output_type": "execute_result"
    }
   ],
   "source": [
    "a[3]"
   ]
  },
  {
   "cell_type": "code",
   "execution_count": 16,
   "id": "096618b7",
   "metadata": {},
   "outputs": [
    {
     "data": {
      "text/plain": [
       "14"
      ]
     },
     "execution_count": 16,
     "metadata": {},
     "output_type": "execute_result"
    }
   ],
   "source": [
    "# how to find lenghth of string\n",
    "len(a)"
   ]
  },
  {
   "cell_type": "code",
   "execution_count": 18,
   "id": "98c40ecf",
   "metadata": {},
   "outputs": [
    {
     "data": {
      "text/plain": [
       "'a'"
      ]
     },
     "execution_count": 18,
     "metadata": {},
     "output_type": "execute_result"
    }
   ],
   "source": [
    "a[13]"
   ]
  },
  {
   "cell_type": "code",
   "execution_count": 21,
   "id": "76757e05",
   "metadata": {},
   "outputs": [
    {
     "data": {
      "text/plain": [
       "'samosa'"
      ]
     },
     "execution_count": 21,
     "metadata": {},
     "output_type": "execute_result"
    }
   ],
   "source": [
    "a[0:6]"
   ]
  },
  {
   "cell_type": "code",
   "execution_count": 24,
   "id": "bda55281",
   "metadata": {},
   "outputs": [
    {
     "data": {
      "text/plain": [
       "'r'"
      ]
     },
     "execution_count": 24,
     "metadata": {},
     "output_type": "execute_result"
    }
   ],
   "source": [
    "a[-2]"
   ]
  },
  {
   "cell_type": "code",
   "execution_count": 30,
   "id": "15a80d11",
   "metadata": {},
   "outputs": [
    {
     "data": {
      "text/plain": [
       "'  pakor'"
      ]
     },
     "execution_count": 30,
     "metadata": {},
     "output_type": "execute_result"
    }
   ],
   "source": [
    "a[-8:-1]"
   ]
  },
  {
   "cell_type": "code",
   "execution_count": 32,
   "id": "c1e87c3b",
   "metadata": {},
   "outputs": [],
   "source": [
    "food=\"baryani\""
   ]
  },
  {
   "cell_type": "code",
   "execution_count": 33,
   "id": "ff54a45d",
   "metadata": {},
   "outputs": [
    {
     "data": {
      "text/plain": [
       "'baryani'"
      ]
     },
     "execution_count": 33,
     "metadata": {},
     "output_type": "execute_result"
    }
   ],
   "source": [
    "food"
   ]
  },
  {
   "cell_type": "markdown",
   "id": "a196ee53",
   "metadata": {},
   "source": [
    "# string methods"
   ]
  },
  {
   "cell_type": "code",
   "execution_count": 44,
   "id": "790a56c8",
   "metadata": {},
   "outputs": [
    {
     "data": {
      "text/plain": [
       "4"
      ]
     },
     "execution_count": 44,
     "metadata": {},
     "output_type": "execute_result"
    }
   ],
   "source": [
    "len(\"food\")"
   ]
  },
  {
   "cell_type": "code",
   "execution_count": 45,
   "id": "546d69b6",
   "metadata": {},
   "outputs": [
    {
     "data": {
      "text/plain": [
       "'Baryani'"
      ]
     },
     "execution_count": 45,
     "metadata": {},
     "output_type": "execute_result"
    }
   ],
   "source": [
    "food.capitalize()"
   ]
  },
  {
   "cell_type": "code",
   "execution_count": 37,
   "id": "a04f750a",
   "metadata": {},
   "outputs": [
    {
     "data": {
      "text/plain": [
       "'BARYANI'"
      ]
     },
     "execution_count": 37,
     "metadata": {},
     "output_type": "execute_result"
    }
   ],
   "source": [
    "food.upper()"
   ]
  },
  {
   "cell_type": "code",
   "execution_count": 38,
   "id": "f9772e88",
   "metadata": {},
   "outputs": [
    {
     "data": {
      "text/plain": [
       "'baryani'"
      ]
     },
     "execution_count": 38,
     "metadata": {},
     "output_type": "execute_result"
    }
   ],
   "source": [
    "food.lower()"
   ]
  },
  {
   "cell_type": "markdown",
   "id": "08fe28d1",
   "metadata": {},
   "source": [
    "### replacing"
   ]
  },
  {
   "cell_type": "code",
   "execution_count": 39,
   "id": "ede74442",
   "metadata": {},
   "outputs": [
    {
     "data": {
      "text/plain": [
       "'sharyani'"
      ]
     },
     "execution_count": 39,
     "metadata": {},
     "output_type": "execute_result"
    }
   ],
   "source": [
    "food.replace(\"ba\",\"sha\")"
   ]
  },
  {
   "cell_type": "markdown",
   "id": "98e8cfa9",
   "metadata": {},
   "source": [
    "### counting a specific alphabet in string"
   ]
  },
  {
   "cell_type": "code",
   "execution_count": 40,
   "id": "7ea0bf4a",
   "metadata": {},
   "outputs": [],
   "source": [
    "name=\"i am learning python with baba gi\""
   ]
  },
  {
   "cell_type": "code",
   "execution_count": 41,
   "id": "d4179f2b",
   "metadata": {},
   "outputs": [
    {
     "data": {
      "text/plain": [
       "'i am learning python with baba gi'"
      ]
     },
     "execution_count": 41,
     "metadata": {},
     "output_type": "execute_result"
    }
   ],
   "source": [
    "name"
   ]
  },
  {
   "cell_type": "code",
   "execution_count": 46,
   "id": "46fa8ec0",
   "metadata": {},
   "outputs": [
    {
     "data": {
      "text/plain": [
       "2"
      ]
     },
     "execution_count": 46,
     "metadata": {},
     "output_type": "execute_result"
    }
   ],
   "source": [
    "name.count(\"b\")"
   ]
  },
  {
   "cell_type": "markdown",
   "id": "634cd9ac",
   "metadata": {},
   "source": [
    "### finding index number in string for single character"
   ]
  },
  {
   "cell_type": "code",
   "execution_count": 47,
   "id": "c49ad626",
   "metadata": {},
   "outputs": [
    {
     "data": {
      "text/plain": [
       "'i am learning python with baba gi'"
      ]
     },
     "execution_count": 47,
     "metadata": {},
     "output_type": "execute_result"
    }
   ],
   "source": [
    "name=\"i am learning python with baba gi\"\n",
    "name "
   ]
  },
  {
   "cell_type": "code",
   "execution_count": 49,
   "id": "ddc39572",
   "metadata": {},
   "outputs": [
    {
     "data": {
      "text/plain": [
       "5"
      ]
     },
     "execution_count": 49,
     "metadata": {},
     "output_type": "execute_result"
    }
   ],
   "source": [
    "name.find(\"l\")"
   ]
  },
  {
   "cell_type": "code",
   "execution_count": 51,
   "id": "e4d205e1",
   "metadata": {},
   "outputs": [
    {
     "data": {
      "text/plain": [
       "0"
      ]
     },
     "execution_count": 51,
     "metadata": {},
     "output_type": "execute_result"
    }
   ],
   "source": [
    "name.find(\"i\")"
   ]
  },
  {
   "cell_type": "markdown",
   "id": "560b7b38",
   "metadata": {},
   "source": [
    "### how to split a string or how to make sperate string of each character"
   ]
  },
  {
   "cell_type": "code",
   "execution_count": 53,
   "id": "bce8d9be",
   "metadata": {},
   "outputs": [
    {
     "data": {
      "text/plain": [
       "'i love smosa ,pakora,baryani,raita,biryani,karahi '"
      ]
     },
     "execution_count": 53,
     "metadata": {},
     "output_type": "execute_result"
    }
   ],
   "source": [
    "food=\"i love smosa ,pakora,baryani,raita,biryani,karahi \"\n",
    "food"
   ]
  },
  {
   "cell_type": "code",
   "execution_count": 55,
   "id": "db825245",
   "metadata": {},
   "outputs": [
    {
     "data": {
      "text/plain": [
       "['i love smosa ', 'pakora', 'baryani', 'raita', 'biryani', 'karahi ']"
      ]
     },
     "execution_count": 55,
     "metadata": {},
     "output_type": "execute_result"
    }
   ],
   "source": [
    "food.split(\",\")"
   ]
  },
  {
   "cell_type": "markdown",
   "id": "381955a0",
   "metadata": {},
   "source": [
    "# data structure in python"
   ]
  },
  {
   "cell_type": "markdown",
   "id": "0af76f59",
   "metadata": {},
   "source": [
    "### 01-tupple\n",
    "-order collection of  elements.\n",
    "-encoded  with small barackrts.\n",
    "-different types of elements are stored .\n",
    "-once elements are stores you can not changed them.\n",
    "-bolien operators are use suc as true,false\n"
   ]
  },
  {
   "cell_type": "code",
   "execution_count": 14,
   "id": "1cb33c6f",
   "metadata": {},
   "outputs": [
    {
     "data": {
      "text/plain": [
       "(1, 'python', 'true', 2.5)"
      ]
     },
     "execution_count": 14,
     "metadata": {},
     "output_type": "execute_result"
    }
   ],
   "source": [
    "tup1 = (1,\"python\",\"true\",2.5)\n",
    "tup1"
   ]
  },
  {
   "cell_type": "code",
   "execution_count": 15,
   "id": "aac0567b",
   "metadata": {},
   "outputs": [
    {
     "data": {
      "text/plain": [
       "tuple"
      ]
     },
     "execution_count": 15,
     "metadata": {},
     "output_type": "execute_result"
    }
   ],
   "source": [
    "type(tup1)"
   ]
  },
  {
   "cell_type": "markdown",
   "id": "6c3725cf",
   "metadata": {},
   "source": [
    "# indexing in tupple"
   ]
  },
  {
   "cell_type": "code",
   "execution_count": 19,
   "id": "108c2958",
   "metadata": {},
   "outputs": [
    {
     "data": {
      "text/plain": [
       "1"
      ]
     },
     "execution_count": 19,
     "metadata": {},
     "output_type": "execute_result"
    }
   ],
   "source": [
    "tup1[0]"
   ]
  },
  {
   "cell_type": "code",
   "execution_count": 22,
   "id": "1a3924df",
   "metadata": {},
   "outputs": [
    {
     "data": {
      "text/plain": [
       "'python'"
      ]
     },
     "execution_count": 22,
     "metadata": {},
     "output_type": "execute_result"
    }
   ],
   "source": [
    "tup1[1]"
   ]
  },
  {
   "cell_type": "code",
   "execution_count": 30,
   "id": "1386485c",
   "metadata": {},
   "outputs": [
    {
     "data": {
      "text/plain": [
       "(1, 'python', 'true')"
      ]
     },
     "execution_count": 30,
     "metadata": {},
     "output_type": "execute_result"
    }
   ],
   "source": [
    "tup1[0:3]"
   ]
  },
  {
   "cell_type": "code",
   "execution_count": 24,
   "id": "109c434a",
   "metadata": {},
   "outputs": [
    {
     "data": {
      "text/plain": [
       "4"
      ]
     },
     "execution_count": 24,
     "metadata": {},
     "output_type": "execute_result"
    }
   ],
   "source": [
    "len(tup1)"
   ]
  },
  {
   "cell_type": "markdown",
   "id": "1ba2c83a",
   "metadata": {},
   "source": [
    "# how to take intersection or addision"
   ]
  },
  {
   "cell_type": "code",
   "execution_count": 25,
   "id": "4669ce86",
   "metadata": {},
   "outputs": [],
   "source": [
    "tup2=(2,\"baba ammar\",3.5,\"false\")"
   ]
  },
  {
   "cell_type": "code",
   "execution_count": 29,
   "id": "8ab37d43",
   "metadata": {},
   "outputs": [
    {
     "data": {
      "text/plain": [
       "(1, 'python', 'true', 2.5, 2, 'baba ammar', 3.5, 'false')"
      ]
     },
     "execution_count": 29,
     "metadata": {},
     "output_type": "execute_result"
    }
   ],
   "source": [
    "# concatition\n",
    "tup1+tup2\n",
    "\n"
   ]
  },
  {
   "cell_type": "code",
   "execution_count": 32,
   "id": "990eadd1",
   "metadata": {},
   "outputs": [
    {
     "data": {
      "text/plain": [
       "(1,\n",
       " 'python',\n",
       " 'true',\n",
       " 2.5,\n",
       " 1,\n",
       " 'python',\n",
       " 'true',\n",
       " 2.5,\n",
       " 2,\n",
       " 'baba ammar',\n",
       " 3.5,\n",
       " 'false')"
      ]
     },
     "execution_count": 32,
     "metadata": {},
     "output_type": "execute_result"
    }
   ],
   "source": [
    "#concatination+repeatation\n",
    "tup1*2+tup2"
   ]
  },
  {
   "cell_type": "code",
   "execution_count": 34,
   "id": "2eb4974a",
   "metadata": {},
   "outputs": [
    {
     "data": {
      "text/plain": [
       "(20, 3, 40, 50, 44, 55)"
      ]
     },
     "execution_count": 34,
     "metadata": {},
     "output_type": "execute_result"
    }
   ],
   "source": [
    "tup3=(20,3,40,50,44,55)\n",
    "tup3"
   ]
  },
  {
   "cell_type": "code",
   "execution_count": 35,
   "id": "4f9e67b0",
   "metadata": {},
   "outputs": [
    {
     "data": {
      "text/plain": [
       "3"
      ]
     },
     "execution_count": 35,
     "metadata": {},
     "output_type": "execute_result"
    }
   ],
   "source": [
    "min(tup3)"
   ]
  },
  {
   "cell_type": "code",
   "execution_count": 36,
   "id": "508af2f8",
   "metadata": {},
   "outputs": [
    {
     "data": {
      "text/plain": [
       "55"
      ]
     },
     "execution_count": 36,
     "metadata": {},
     "output_type": "execute_result"
    }
   ],
   "source": [
    "max(tup3)"
   ]
  },
  {
   "cell_type": "code",
   "execution_count": 37,
   "id": "6601ebe2",
   "metadata": {},
   "outputs": [
    {
     "data": {
      "text/plain": [
       "(20, 3, 40, 50, 44, 55, 20, 3, 40, 50, 44, 55)"
      ]
     },
     "execution_count": 37,
     "metadata": {},
     "output_type": "execute_result"
    }
   ],
   "source": [
    "## repitation\n",
    "tup3*2"
   ]
  },
  {
   "cell_type": "markdown",
   "id": "5cccdd07",
   "metadata": {},
   "source": [
    "# lists\n",
    "-order collection of elements.\n",
    "-enclosed with [].\n",
    "-you can change the value \n",
    "    "
   ]
  },
  {
   "cell_type": "code",
   "execution_count": 42,
   "id": "95670eec",
   "metadata": {},
   "outputs": [],
   "source": [
    "list1 = [1,\"python\",\"true\",2.5]"
   ]
  },
  {
   "cell_type": "code",
   "execution_count": 44,
   "id": "1aac7a97",
   "metadata": {},
   "outputs": [
    {
     "data": {
      "text/plain": [
       "list"
      ]
     },
     "execution_count": 44,
     "metadata": {},
     "output_type": "execute_result"
    }
   ],
   "source": [
    "type(list1)"
   ]
  },
  {
   "cell_type": "code",
   "execution_count": 45,
   "id": "dbda6ba5",
   "metadata": {},
   "outputs": [
    {
     "data": {
      "text/plain": [
       "'true'"
      ]
     },
     "execution_count": 45,
     "metadata": {},
     "output_type": "execute_result"
    }
   ],
   "source": [
    "list1[2]"
   ]
  },
  {
   "cell_type": "code",
   "execution_count": 49,
   "id": "8da02cde",
   "metadata": {},
   "outputs": [
    {
     "data": {
      "text/plain": [
       "[3, 5, 'ammar', 'codenic', 476, 667, 88, 777, 'false']"
      ]
     },
     "execution_count": 49,
     "metadata": {},
     "output_type": "execute_result"
    }
   ],
   "source": [
    "list2=[3,5,\"ammar\",\"codenic\",476,667,88,777,\"false\"]\n",
    "list2"
   ]
  },
  {
   "cell_type": "code",
   "execution_count": 50,
   "id": "06aab96e",
   "metadata": {},
   "outputs": [
    {
     "data": {
      "text/plain": [
       "[1,\n",
       " 'python',\n",
       " 'true',\n",
       " 2.5,\n",
       " 3,\n",
       " 5,\n",
       " 'ammar',\n",
       " 'codenic',\n",
       " 476,\n",
       " 667,\n",
       " 88,\n",
       " 777,\n",
       " 'false']"
      ]
     },
     "execution_count": 50,
     "metadata": {},
     "output_type": "execute_result"
    }
   ],
   "source": [
    "list1+list2"
   ]
  },
  {
   "cell_type": "code",
   "execution_count": 51,
   "id": "12b6967c",
   "metadata": {},
   "outputs": [
    {
     "data": {
      "text/plain": [
       "[1, 'python', 'true', 2.5, 1, 'python', 'true', 2.5]"
      ]
     },
     "execution_count": 51,
     "metadata": {},
     "output_type": "execute_result"
    }
   ],
   "source": [
    "list1*2"
   ]
  },
  {
   "cell_type": "code",
   "execution_count": 55,
   "id": "d509ce97",
   "metadata": {},
   "outputs": [
    {
     "data": {
      "text/plain": [
       "[1, 'python', 'true', 2.5]"
      ]
     },
     "execution_count": 55,
     "metadata": {},
     "output_type": "execute_result"
    }
   ],
   "source": [
    "list1"
   ]
  },
  {
   "cell_type": "code",
   "execution_count": 56,
   "id": "b44346ca",
   "metadata": {},
   "outputs": [
    {
     "data": {
      "text/plain": [
       "[2.5, 'true', 'python', 1]"
      ]
     },
     "execution_count": 56,
     "metadata": {},
     "output_type": "execute_result"
    }
   ],
   "source": [
    "list1.reverse()\n",
    "list1"
   ]
  },
  {
   "cell_type": "code",
   "execution_count": 59,
   "id": "8b4f2c8e",
   "metadata": {},
   "outputs": [
    {
     "data": {
      "text/plain": [
       "[2.5,\n",
       " 'true',\n",
       " 'python',\n",
       " 1,\n",
       " 'today admin left the arbaz',\n",
       " 'today admin left the arbaz',\n",
       " 'today admin left the arbaz']"
      ]
     },
     "execution_count": 59,
     "metadata": {},
     "output_type": "execute_result"
    }
   ],
   "source": [
    "list1.append(\"today admin left the arbaz\")\n",
    "list1"
   ]
  },
  {
   "cell_type": "code",
   "execution_count": 64,
   "id": "01413b32",
   "metadata": {},
   "outputs": [
    {
     "data": {
      "text/plain": [
       "[2.5,\n",
       " 'true',\n",
       " 'python',\n",
       " 1,\n",
       " 'today admin left the arbaz',\n",
       " 'today admin left the arbaz',\n",
       " 'today admin left the arbaz']"
      ]
     },
     "execution_count": 64,
     "metadata": {},
     "output_type": "execute_result"
    }
   ],
   "source": [
    "list1"
   ]
  },
  {
   "cell_type": "code",
   "execution_count": 74,
   "id": "0a2efa7d",
   "metadata": {},
   "outputs": [
    {
     "data": {
      "text/plain": [
       "[3, 5, 'ammar', 'codenic', 476, 667, 88, 777, 'false']"
      ]
     },
     "execution_count": 74,
     "metadata": {},
     "output_type": "execute_result"
    }
   ],
   "source": [
    "list2"
   ]
  },
  {
   "cell_type": "code",
   "execution_count": 77,
   "id": "d2600094",
   "metadata": {},
   "outputs": [
    {
     "data": {
      "text/plain": [
       "[11, 33, 66, 7, 88, 99]"
      ]
     },
     "execution_count": 77,
     "metadata": {},
     "output_type": "execute_result"
    }
   ],
   "source": [
    "list3=[11,33,66,7,88,99]\n",
    "list3"
   ]
  },
  {
   "cell_type": "code",
   "execution_count": 79,
   "id": "9d248030",
   "metadata": {},
   "outputs": [
    {
     "data": {
      "text/plain": [
       "[7, 11, 33, 66, 88, 99]"
      ]
     },
     "execution_count": 79,
     "metadata": {},
     "output_type": "execute_result"
    }
   ],
   "source": [
    "list3.sort()\n",
    "list3"
   ]
  },
  {
   "cell_type": "code",
   "execution_count": 81,
   "id": "379bb012",
   "metadata": {},
   "outputs": [
    {
     "data": {
      "text/plain": [
       "[7, 11, 33, 66, 88, 99, '3', '3', ',', '5', '5', '3', '3', ',', '5', '5']"
      ]
     },
     "execution_count": 81,
     "metadata": {},
     "output_type": "execute_result"
    }
   ],
   "source": [
    "list3.extend(\"33,55\")   ## false method\n",
    "list3"
   ]
  },
  {
   "cell_type": "code",
   "execution_count": 94,
   "id": "77d37b9b",
   "metadata": {},
   "outputs": [
    {
     "data": {
      "text/plain": [
       "[3, 55, 3, 3, 66]"
      ]
     },
     "execution_count": 94,
     "metadata": {},
     "output_type": "execute_result"
    }
   ],
   "source": [
    "list4=[3,55,3,3,66]\n",
    "list4"
   ]
  },
  {
   "cell_type": "markdown",
   "id": "ae0272b9",
   "metadata": {},
   "source": [
    "list3.extend(list4)   ## true method"
   ]
  },
  {
   "cell_type": "code",
   "execution_count": 4,
   "id": "1f791a19",
   "metadata": {},
   "outputs": [
    {
     "data": {
      "text/plain": [
       "[1, 2, 3, 4, 5, 7, 8]"
      ]
     },
     "execution_count": 4,
     "metadata": {},
     "output_type": "execute_result"
    }
   ],
   "source": [
    "l=[1,2,3,4,5,7,8]\n",
    "l"
   ]
  },
  {
   "cell_type": "code",
   "execution_count": 7,
   "id": "271d6aeb",
   "metadata": {},
   "outputs": [
    {
     "data": {
      "text/plain": [
       "[1, 2, 3, 4, 5, 7, 8]"
      ]
     },
     "execution_count": 7,
     "metadata": {},
     "output_type": "execute_result"
    }
   ],
   "source": [
    "l.sort()\n",
    "l"
   ]
  },
  {
   "cell_type": "markdown",
   "id": "3d0f77a6",
   "metadata": {},
   "source": [
    "# append"
   ]
  },
  {
   "cell_type": "code",
   "execution_count": 13,
   "id": "f57627bf",
   "metadata": {},
   "outputs": [
    {
     "data": {
      "text/plain": [
       "[1, 2, 10, 10, 3, 4, 5, 7, 8, 10, 10, 10]"
      ]
     },
     "execution_count": 13,
     "metadata": {},
     "output_type": "execute_result"
    }
   ],
   "source": [
    "l.append(10)\n",
    "l"
   ]
  },
  {
   "cell_type": "markdown",
   "id": "de371f49",
   "metadata": {},
   "source": [
    "#insert by using indexing"
   ]
  },
  {
   "cell_type": "code",
   "execution_count": 14,
   "id": "22f11e83",
   "metadata": {},
   "outputs": [
    {
     "data": {
      "text/plain": [
       "[1, 2, 10, 10, 10, 3, 4, 5, 7, 8, 10, 10, 10]"
      ]
     },
     "execution_count": 14,
     "metadata": {},
     "output_type": "execute_result"
    }
   ],
   "source": [
    "l.insert(2,10)\n",
    "l"
   ]
  },
  {
   "cell_type": "markdown",
   "id": "d1c1acdc",
   "metadata": {},
   "source": [
    "# count"
   ]
  },
  {
   "cell_type": "code",
   "execution_count": 15,
   "id": "e1876965",
   "metadata": {},
   "outputs": [
    {
     "data": {
      "text/plain": [
       "6"
      ]
     },
     "execution_count": 15,
     "metadata": {},
     "output_type": "execute_result"
    }
   ],
   "source": [
    "l.count(10)"
   ]
  },
  {
   "cell_type": "markdown",
   "id": "3f05b248",
   "metadata": {},
   "source": [
    "# remove"
   ]
  },
  {
   "cell_type": "code",
   "execution_count": 17,
   "id": "d627ca5c",
   "metadata": {},
   "outputs": [
    {
     "data": {
      "text/plain": [
       "[1, 2, 10, 3, 4, 5, 7, 8, 10, 10, 10]"
      ]
     },
     "execution_count": 17,
     "metadata": {},
     "output_type": "execute_result"
    }
   ],
   "source": [
    "l.remove(10)\n",
    "l"
   ]
  },
  {
   "cell_type": "markdown",
   "id": "8847c201",
   "metadata": {},
   "source": [
    "# pop using indexing"
   ]
  },
  {
   "cell_type": "code",
   "execution_count": 23,
   "id": "c261cf58",
   "metadata": {},
   "outputs": [
    {
     "data": {
      "text/plain": [
       "3"
      ]
     },
     "execution_count": 23,
     "metadata": {},
     "output_type": "execute_result"
    }
   ],
   "source": [
    "## it cannot bee worked withou variable decleration\n",
    "a=l.pop(1)\n",
    "a"
   ]
  },
  {
   "cell_type": "code",
   "execution_count": 27,
   "id": "a2d87081",
   "metadata": {},
   "outputs": [
    {
     "data": {
      "text/plain": [
       "[]"
      ]
     },
     "execution_count": 27,
     "metadata": {},
     "output_type": "execute_result"
    }
   ],
   "source": [
    "l"
   ]
  },
  {
   "cell_type": "markdown",
   "id": "0015e568",
   "metadata": {},
   "source": [
    "# *CLEAR BY USING EMPTY LIST*"
   ]
  },
  {
   "cell_type": "code",
   "execution_count": 28,
   "id": "fe866a86",
   "metadata": {},
   "outputs": [
    {
     "data": {
      "text/plain": [
       "[]"
      ]
     },
     "execution_count": 28,
     "metadata": {},
     "output_type": "execute_result"
    }
   ],
   "source": [
    "l.clear()\n",
    "l"
   ]
  },
  {
   "cell_type": "markdown",
   "id": "c722d6e7",
   "metadata": {},
   "source": [
    "# dictionary\n",
    "-unorder collectoin of elements\n",
    "-key and value\n",
    "-use curly brackets\n",
    "-chane vales any time"
   ]
  },
  {
   "cell_type": "code",
   "execution_count": 3,
   "id": "fd7dab32",
   "metadata": {},
   "outputs": [
    {
     "data": {
      "text/plain": [
       "{'samosa': 25, 'pakora': 50, 'baryani': 120, 'salad': 20, 'chicken role': 10}"
      ]
     },
     "execution_count": 3,
     "metadata": {},
     "output_type": "execute_result"
    }
   ],
   "source": [
    "# food and their prices\n",
    "food1={\"samosa\":25,\"pakora\":50,\"baryani\":120,\"salad\":20,\"chicken role\":10}\n",
    "food1"
   ]
  },
  {
   "cell_type": "code",
   "execution_count": 4,
   "id": "5d72abfc",
   "metadata": {},
   "outputs": [
    {
     "data": {
      "text/plain": [
       "dict"
      ]
     },
     "execution_count": 4,
     "metadata": {},
     "output_type": "execute_result"
    }
   ],
   "source": [
    "type(food1)"
   ]
  },
  {
   "cell_type": "code",
   "execution_count": 7,
   "id": "f4fd9b46",
   "metadata": {},
   "outputs": [
    {
     "data": {
      "text/plain": [
       "dict_keys(['samosa', 'pakora', 'baryani', 'salad', 'chicken role'])"
      ]
     },
     "execution_count": 7,
     "metadata": {},
     "output_type": "execute_result"
    }
   ],
   "source": [
    "# extarcting data using key and values\n",
    "keys1=food1.keys()\n",
    "keys1"
   ]
  },
  {
   "cell_type": "code",
   "execution_count": 8,
   "id": "f53fac01",
   "metadata": {},
   "outputs": [
    {
     "data": {
      "text/plain": [
       "dict_values([25, 50, 120, 20, 10])"
      ]
     },
     "execution_count": 8,
     "metadata": {},
     "output_type": "execute_result"
    }
   ],
   "source": [
    "values1=food1.values()\n",
    "values1"
   ]
  },
  {
   "cell_type": "markdown",
   "id": "cdad9baf",
   "metadata": {},
   "source": [
    "# adding new elements"
   ]
  },
  {
   "cell_type": "code",
   "execution_count": 16,
   "id": "b69f85b4",
   "metadata": {},
   "outputs": [
    {
     "data": {
      "text/plain": [
       "{'samosa': 25,\n",
       " 'pakora': 50,\n",
       " 'baryani': 120,\n",
       " 'salad': 20,\n",
       " 'chicken role': 10,\n",
       " 'tiki': 45}"
      ]
     },
     "execution_count": 16,
     "metadata": {},
     "output_type": "execute_result"
    }
   ],
   "source": [
    "food1[\"tiki\"]=45\n",
    "food1"
   ]
  },
  {
   "cell_type": "markdown",
   "id": "dd149988",
   "metadata": {},
   "source": [
    "# update "
   ]
  },
  {
   "cell_type": "code",
   "execution_count": 19,
   "id": "7ede9d0b",
   "metadata": {},
   "outputs": [
    {
     "data": {
      "text/plain": [
       "{'samosa': 25,\n",
       " 'pakora': 50,\n",
       " 'baryani': 120,\n",
       " 'salad': 20,\n",
       " 'chicken role': 10,\n",
       " 'tiki': 40}"
      ]
     },
     "execution_count": 19,
     "metadata": {},
     "output_type": "execute_result"
    }
   ],
   "source": [
    "food1[\"tiki\"]=40\n",
    "food1"
   ]
  },
  {
   "cell_type": "code",
   "execution_count": 22,
   "id": "e692e5dc",
   "metadata": {},
   "outputs": [
    {
     "data": {
      "text/plain": [
       "{'dates': 50, 'choclates': 33, 'sawayya': 500}"
      ]
     },
     "execution_count": 22,
     "metadata": {},
     "output_type": "execute_result"
    }
   ],
   "source": [
    "food2={\"dates\":50,\"choclates\":33,\"sawayya\":500}\n",
    "food2"
   ]
  },
  {
   "cell_type": "markdown",
   "id": "4f9b598e",
   "metadata": {},
   "source": [
    "# councatination"
   ]
  },
  {
   "cell_type": "code",
   "execution_count": 26,
   "id": "07492cd4",
   "metadata": {},
   "outputs": [
    {
     "data": {
      "text/plain": [
       "{'samosa': 25,\n",
       " 'pakora': 50,\n",
       " 'baryani': 120,\n",
       " 'salad': 20,\n",
       " 'chicken role': 10,\n",
       " 'tiki': 40,\n",
       " 'dates': 50,\n",
       " 'choclates': 33,\n",
       " 'sawayya': 500}"
      ]
     },
     "execution_count": 26,
     "metadata": {},
     "output_type": "execute_result"
    }
   ],
   "source": [
    "food1.update(food2)\n",
    "food1"
   ]
  },
  {
   "cell_type": "markdown",
   "id": "4d5dffe5",
   "metadata": {},
   "source": [
    "# 4- sets\n",
    "-unorder and unindex\n",
    "-curly brace use{}\n",
    "-no duplication allows"
   ]
  },
  {
   "cell_type": "code",
   "execution_count": 17,
   "id": "b3995440",
   "metadata": {},
   "outputs": [
    {
     "data": {
      "text/plain": [
       "{1, 2.5, 3, 'ammar', 'arbaz', 'arshad'}"
      ]
     },
     "execution_count": 17,
     "metadata": {},
     "output_type": "execute_result"
    }
   ],
   "source": [
    "s1={1,2.5,3,\"ammar\",\"arbaz\",\"arshad\"}\n",
    "s1\n"
   ]
  },
  {
   "cell_type": "markdown",
   "id": "923d4452",
   "metadata": {},
   "source": [
    "# add"
   ]
  },
  {
   "cell_type": "code",
   "execution_count": 20,
   "id": "9b2ccb9c",
   "metadata": {},
   "outputs": [
    {
     "data": {
      "text/plain": [
       "{1, 2.5, 3, 'ammar', 'ammar1', 'arbaz', 'arshad'}"
      ]
     },
     "execution_count": 20,
     "metadata": {},
     "output_type": "execute_result"
    }
   ],
   "source": [
    "s1.add(\"ammar1\")\n",
    "s1"
   ]
  },
  {
   "cell_type": "markdown",
   "id": "ee7484d5",
   "metadata": {},
   "source": [
    "# remove"
   ]
  },
  {
   "cell_type": "code",
   "execution_count": 24,
   "id": "7fff8424",
   "metadata": {},
   "outputs": [
    {
     "data": {
      "text/plain": [
       "{1, 2.5, 3, 'ammar', 'arshad'}"
      ]
     },
     "execution_count": 24,
     "metadata": {},
     "output_type": "execute_result"
    }
   ],
   "source": [
    "##remove command\n",
    "s1.remove(\"arbaz\")\n",
    "s1"
   ]
  },
  {
   "cell_type": "markdown",
   "id": "0fea7bf2",
   "metadata": {},
   "source": [
    "# clear"
   ]
  },
  {
   "cell_type": "code",
   "execution_count": 26,
   "id": "3c2753e3",
   "metadata": {},
   "outputs": [
    {
     "data": {
      "text/plain": [
       "set()"
      ]
     },
     "execution_count": 26,
     "metadata": {},
     "output_type": "execute_result"
    }
   ],
   "source": [
    "## clear command\n",
    "s1.clear()\n",
    "s1"
   ]
  },
  {
   "cell_type": "code",
   "execution_count": 28,
   "id": "59d4f1eb",
   "metadata": {},
   "outputs": [
    {
     "data": {
      "text/plain": [
       "{1, 2, 3, 4, 5}"
      ]
     },
     "execution_count": 28,
     "metadata": {},
     "output_type": "execute_result"
    }
   ],
   "source": [
    "s2={1,2,3,4,5}\n",
    "s2"
   ]
  },
  {
   "cell_type": "code",
   "execution_count": 56,
   "id": "507bbc4e",
   "metadata": {},
   "outputs": [],
   "source": [
    "s2={1,2,3,4,5}"
   ]
  },
  {
   "cell_type": "markdown",
   "id": "85108bcf",
   "metadata": {},
   "source": [
    "# reomve"
   ]
  },
  {
   "cell_type": "code",
   "execution_count": 57,
   "id": "ea9cdaf9",
   "metadata": {
    "scrolled": true
   },
   "outputs": [
    {
     "data": {
      "text/plain": [
       "{1, 3, 4, 5}"
      ]
     },
     "execution_count": 57,
     "metadata": {},
     "output_type": "execute_result"
    }
   ],
   "source": [
    "s2.remove(2)\n",
    "s2"
   ]
  },
  {
   "cell_type": "markdown",
   "id": "62401aa2",
   "metadata": {},
   "source": [
    "# update"
   ]
  },
  {
   "cell_type": "code",
   "execution_count": 38,
   "id": "4afb01b6",
   "metadata": {},
   "outputs": [
    {
     "data": {
      "text/plain": [
       "{1, 3, 4, 5, 101}"
      ]
     },
     "execution_count": 38,
     "metadata": {},
     "output_type": "execute_result"
    }
   ],
   "source": [
    "s2.update([101])\n",
    "s2"
   ]
  },
  {
   "cell_type": "code",
   "execution_count": 54,
   "id": "dffa6a61",
   "metadata": {},
   "outputs": [
    {
     "data": {
      "text/plain": [
       "{44, 55, 77}"
      ]
     },
     "execution_count": 54,
     "metadata": {},
     "output_type": "execute_result"
    }
   ],
   "source": [
    "s3={44,55,77}\n",
    "s3"
   ]
  },
  {
   "cell_type": "markdown",
   "id": "8c4ba039",
   "metadata": {},
   "source": [
    "# pop"
   ]
  },
  {
   "cell_type": "code",
   "execution_count": 55,
   "id": "fa2e5c42",
   "metadata": {},
   "outputs": [
    {
     "data": {
      "text/plain": [
       "{55, 77}"
      ]
     },
     "execution_count": 55,
     "metadata": {},
     "output_type": "execute_result"
    }
   ],
   "source": [
    "s3.pop()\n",
    "s3"
   ]
  },
  {
   "cell_type": "markdown",
   "id": "037420c0",
   "metadata": {},
   "source": [
    "# union and intersection"
   ]
  },
  {
   "cell_type": "code",
   "execution_count": 58,
   "id": "c9d3c103",
   "metadata": {},
   "outputs": [
    {
     "data": {
      "text/plain": [
       "{44, 45, 46, 47}"
      ]
     },
     "execution_count": 58,
     "metadata": {},
     "output_type": "execute_result"
    }
   ],
   "source": [
    "s8={44,45,46,47}\n",
    "s8"
   ]
  },
  {
   "cell_type": "code",
   "execution_count": 59,
   "id": "a4f6f1a4",
   "metadata": {},
   "outputs": [
    {
     "data": {
      "text/plain": [
       "{33, 44, 46, 47}"
      ]
     },
     "execution_count": 59,
     "metadata": {},
     "output_type": "execute_result"
    }
   ],
   "source": [
    "s9={44,33,46,47}\n",
    "s9"
   ]
  },
  {
   "cell_type": "code",
   "execution_count": 61,
   "id": "e3f66065",
   "metadata": {},
   "outputs": [
    {
     "data": {
      "text/plain": [
       "{44, 46, 47}"
      ]
     },
     "execution_count": 61,
     "metadata": {},
     "output_type": "execute_result"
    }
   ],
   "source": [
    "s8.intersection(s9)"
   ]
  },
  {
   "cell_type": "code",
   "execution_count": 62,
   "id": "c00346e9",
   "metadata": {},
   "outputs": [
    {
     "data": {
      "text/plain": [
       "{33, 44, 45, 46, 47}"
      ]
     },
     "execution_count": 62,
     "metadata": {},
     "output_type": "execute_result"
    }
   ],
   "source": [
    "s8.union(s9)"
   ]
  },
  {
   "cell_type": "code",
   "execution_count": null,
   "id": "4b8e0ef1",
   "metadata": {},
   "outputs": [],
   "source": []
  }
 ],
 "metadata": {
  "kernelspec": {
   "display_name": "Python 3 (ipykernel)",
   "language": "python",
   "name": "python3"
  },
  "language_info": {
   "codemirror_mode": {
    "name": "ipython",
    "version": 3
   },
   "file_extension": ".py",
   "mimetype": "text/x-python",
   "name": "python",
   "nbconvert_exporter": "python",
   "pygments_lexer": "ipython3",
   "version": "3.11.3"
  }
 },
 "nbformat": 4,
 "nbformat_minor": 5
}
