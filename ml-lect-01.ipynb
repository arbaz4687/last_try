{
 "cells": [
  {
   "cell_type": "markdown",
   "metadata": {},
   "source": [
    "## what is machine learning?\n",
    "- A machine learning is a process of collection of a perivious data then train a data and then finally design a model .A model provide us perdiction on the base of storing data ."
   ]
  },
  {
   "cell_type": "markdown",
   "metadata": {},
   "source": [
    "### Where machine learning use in your real life ?\n",
    "- let suppose you want to buy a mobile phone .when you will visit all the  market and finall you can predict which shop in market place provide the discount on sell phone its a small example of Ml.\n",
    "\n",
    "    - cancer finding\n",
    "    - self driving car\n",
    "    - social media\n",
    "        - facebook,youtube and twitter etc"
   ]
  }
 ],
 "metadata": {
  "language_info": {
   "name": "python"
  },
  "orig_nbformat": 4
 },
 "nbformat": 4,
 "nbformat_minor": 2
}
