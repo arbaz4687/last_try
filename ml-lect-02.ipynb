{
 "cells": [
  {
   "cell_type": "markdown",
   "metadata": {},
   "source": [
    "## Types of machine learning"
   ]
  },
  {
   "cell_type": "markdown",
   "metadata": {},
   "source": [
    "    1 supervized learning\n",
    "    2 unsupervized learning\n",
    "    3 semi supervized learning\n",
    "    4 Reinforcement"
   ]
  },
  {
   "cell_type": "markdown",
   "metadata": {},
   "source": [
    "## supervized learning\n",
    "In supervised machine learning a superviser is use for training the data set . In supervised machine 80% training are provides by the superviser and 20% a model is automatically learn."
   ]
  },
  {
   "cell_type": "markdown",
   "metadata": {},
   "source": [
    "## unsupervized learning\n",
    "In unsupervised machine learning a superviser is not use for training the data set . In unsupervised machine learning a model is categorized the data into groups and then provide a prediction on the base of categorized the data (example:5th and 10th class student)"
   ]
  },
  {
   "cell_type": "markdown",
   "metadata": {},
   "source": [
    " ## semi supervized learning:\n",
    " it is a combination of both supervized and unsupervized learning.In this learning half data provide br the superviser and half data lear by model yourself and provide a prediction , a error chance is maximum in unsupervised learning."
   ]
  },
  {
   "cell_type": "markdown",
   "metadata": {},
   "source": [
    "### Reinforcement learning?\n",
    "In this learning technique a model base on Rewards and penality means a model perform action in environment and if the result is satisfied then it will use this method next time .Otherwise it will find another better way.(saza and jaza)"
   ]
  },
  {
   "cell_type": "markdown",
   "metadata": {},
   "source": [
    "pip install skit-learn"
   ]
  }
 ],
 "metadata": {
  "language_info": {
   "name": "python"
  },
  "orig_nbformat": 4
 },
 "nbformat": 4,
 "nbformat_minor": 2
}
