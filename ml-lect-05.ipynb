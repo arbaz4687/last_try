{
 "cells": [
  {
   "cell_type": "markdown",
   "metadata": {},
   "source": [
    "### why we use train datab(what is benifit )\n",
    " when we want to get the prediction from model some times its provide not accurate accuracy .THerefore\n",
    " you can easily find the difference between output and actual data"
   ]
  },
  {
   "cell_type": "markdown",
   "metadata": {},
   "source": [
    "### what is overfitting\n",
    "In ml we are provides the 100 % training data to the machine .And when \n",
    "we pridect the output then it provides the high accuracy and the error chance is high,noise is also occur tha is know overfitting"
   ]
  },
  {
   "cell_type": "markdown",
   "metadata": {},
   "source": [
    "### Out of sample accuracy?\n",
    "iT means when we used the unknow sample and model is provide the less accurate prediction that is know Out of sample"
   ]
  },
  {
   "cell_type": "markdown",
   "metadata": {},
   "source": []
  },
  {
   "cell_type": "markdown",
   "metadata": {},
   "source": [
    "## Resodual error?\n",
    "In linear Regression graph a distance between numbers os samll points to line that is a resudual error .\n",
    "- if you take a mean of all resudual error that is know as MAE(MEAN Absolute error)simple words taking means of all error.\n",
    "- types of error\n",
    "  - RE(root square error)\n",
    "  - MAE(mean absolute Eror)\n",
    "  - Mse(mean square error)\n",
    "  - root square error of (Mse)\n",
    "  - Rae(rasudual absolute error)\n",
    "  - R (square)papoler in data science"
   ]
  },
  {
   "cell_type": "markdown",
   "metadata": {},
   "source": [
    "## - Conclosion?\n",
    "100% data always used for train the model . large mabe increase the accuracy of data know the quesion is here why we use spliting of data (for accuracy)training 80% data is given and 20% used unknow that for check tha weather model provide same results or not.\n",
    "- why we use 100% data\n",
    "- means already know about the prediction and accuracy very high in 100%.when we use 20%out of 1oo% so its is provide 99% accurate ans"
   ]
  }
 ],
 "metadata": {
  "language_info": {
   "name": "python"
  },
  "orig_nbformat": 4
 },
 "nbformat": 4,
 "nbformat_minor": 2
}
