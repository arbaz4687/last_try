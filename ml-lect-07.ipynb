{
 "cells": [
  {
   "cell_type": "markdown",
   "metadata": {},
   "source": [
    "#### what is Classification?\n",
    "- it is base on two particular things\n",
    "  - Decision Treee Classification\n",
    "  - K_nearest_neibhour"
   ]
  },
  {
   "cell_type": "markdown",
   "metadata": {},
   "source": [
    "### what is K_nearest_neibhour\n",
    "In K_nearest_neibhour let soppuse we tak two features or input parameters(age and weight)\n",
    "and we want to predict output parameter (liknes)\n",
    "such as which like (baryani,samosa )etc.\n",
    " - In this method we will give bthe specific value of k such as mostly use (3,5,7).When we will plotting the data and select any point then we will make a decision on the base of majority and distance and finally provide a results .\n",
    "\n",
    "\n",
    "\n",
    "\n",
    "\n"
   ]
  },
  {
   "cell_type": "markdown",
   "metadata": {},
   "source": [
    " #### K_nearest_neibhour provide final results on the base of two things ?\n",
    " - Majority of coloring(how many colors are near)\n",
    " - Distance between nearst points."
   ]
  }
 ],
 "metadata": {
  "language_info": {
   "name": "python"
  },
  "orig_nbformat": 4
 },
 "nbformat": 4,
 "nbformat_minor": 2
}
