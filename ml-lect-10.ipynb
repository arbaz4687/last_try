{
 "cells": [
  {
   "cell_type": "markdown",
   "metadata": {},
   "source": [
    "### what is a linear Regression?\n",
    "A logisteric Regression is different from simple and multiple linear regression.In logisteric lear equation we are used least square method(means between lines a smaller dots is an error ) we takr thr mean of each error on the base of distance between the line to error then (MRE) we are applied  the mean resudent error and taking line on the base of minimum mean value .\n",
    "R(square method) is use increase the aquaracy .\n"
   ]
  },
  {
   "cell_type": "markdown",
   "metadata": {},
   "source": [
    "### what is a logestric Regression?\n",
    "In linear Regression a least square method is not used or not R(square).Inlinear Regression a decision is making on the base of maximum probability.\n",
    "  let soppuse there is a ghraph on X axis  only one input parameter(weight) and y axis two catogorical variable or paramets (healthy and week ) and we will use the 1,0 for health and strong (s_function are used as a line and its not straight like a olta s).iF weight is given like 5okg if its more than 51 then output stronger,if 49 then it will be added in week ."
   ]
  },
  {
   "cell_type": "markdown",
   "metadata": {},
   "source": []
  }
 ],
 "metadata": {
  "language_info": {
   "name": "python"
  },
  "orig_nbformat": 4
 },
 "nbformat": 4,
 "nbformat_minor": 2
}
