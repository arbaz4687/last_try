{
 "cells": [
  {
   "cell_type": "markdown",
   "metadata": {},
   "source": [
    "### what is clustering?\n",
    "A clustering is a process of classified the data into different group base on similarities.Ech group have a different data sets each data set is simmialr with our group but distingiush from another group.\n",
    "#### where cluistering is used in Real-life?\n",
    "- Banking \n",
    "- Froud ditection\n",
    "- image analysis \n",
    "- outliers remove\n",
    "- finding the missing values in computer\n",
    "- EDA\n",
    "### What is difference between clustering and classification?\n",
    " - Clustering \n",
    " - work on supervised learning\n",
    " - no training data is used for train model\n",
    " - label data use \n",
    " - data algorithm (k_mean)\n",
    "  -  classification is opposite to clusstering"
   ]
  },
  {
   "cell_type": "markdown",
   "metadata": {},
   "source": [
    "### Types of clusterin?\n",
    "- hierarical clustering\n",
    "- partitioned clustering\n",
    "- Density base clustering\n"
   ]
  },
  {
   "cell_type": "markdown",
   "metadata": {},
   "source": [
    "### A real life example of clustering?\n",
    "A latest_Area banking sytem can be easily predict the outcomes of customer by using some input paramets such as \n",
    "- Age \n",
    "- salary \n",
    "\n",
    "  these parameters can be helpful for determine the financial condition of customer.A bank is aslo decide that wheather they should be given the loan to the customer or note"
   ]
  },
  {
   "cell_type": "markdown",
   "metadata": {},
   "source": []
  }
 ],
 "metadata": {
  "language_info": {
   "name": "python"
  },
  "orig_nbformat": 4
 },
 "nbformat": 4,
 "nbformat_minor": 2
}
