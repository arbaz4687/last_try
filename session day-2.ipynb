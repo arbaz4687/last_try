{
 "cells": [
  {
   "cell_type": "raw",
   "id": "42f8f2ab",
   "metadata": {},
   "source": [
    "# body mass index(BMI)\n",
    "#input weight\n",
    "# height\n",
    "#BMI(ask your self your height)\n",
    "#weight\n",
    "#calculate BMI\n"
   ]
  },
  {
   "cell_type": "code",
   "execution_count": 1,
   "id": "14b0c0d1",
   "metadata": {},
   "outputs": [
    {
     "name": "stdout",
     "output_type": "stream",
     "text": [
      "what is your height? 2.3\n"
     ]
    }
   ],
   "source": [
    "height=input(\"what is your height? \")"
   ]
  },
  {
   "cell_type": "code",
   "execution_count": 2,
   "id": "d2a0cf4a",
   "metadata": {},
   "outputs": [],
   "source": [
    "height=float(height)"
   ]
  },
  {
   "cell_type": "code",
   "execution_count": 3,
   "id": "cba299a6",
   "metadata": {},
   "outputs": [
    {
     "name": "stdout",
     "output_type": "stream",
     "text": [
      "what is your weight? 66\n"
     ]
    }
   ],
   "source": [
    "weight=input(\"what is your weight? \")\n"
   ]
  },
  {
   "cell_type": "code",
   "execution_count": 4,
   "id": "0f0ca7c4",
   "metadata": {},
   "outputs": [],
   "source": [
    "weight=float(weight)"
   ]
  },
  {
   "cell_type": "code",
   "execution_count": 5,
   "id": "303bc8a0",
   "metadata": {},
   "outputs": [
    {
     "name": "stdout",
     "output_type": "stream",
     "text": [
      "enter your name arbaz\n"
     ]
    },
    {
     "data": {
      "text/plain": [
       "'arbaz'"
      ]
     },
     "execution_count": 5,
     "metadata": {},
     "output_type": "execute_result"
    }
   ],
   "source": [
    "name=input(\"enter your name \")\n",
    "name"
   ]
  },
  {
   "cell_type": "code",
   "execution_count": 7,
   "id": "6fbc30c1",
   "metadata": {},
   "outputs": [
    {
     "data": {
      "text/plain": [
       "12.476370510396977"
      ]
     },
     "execution_count": 7,
     "metadata": {},
     "output_type": "execute_result"
    }
   ],
   "source": [
    "BMI=weight/height**2\n",
    "BMI"
   ]
  },
  {
   "cell_type": "code",
   "execution_count": 9,
   "id": "476151b1",
   "metadata": {},
   "outputs": [
    {
     "name": "stdout",
     "output_type": "stream",
     "text": [
      "my name is arbaz and my bmi is 12.476370510396977\n"
     ]
    }
   ],
   "source": [
    "print(\"my name is\",name,\"and my bmi is\",BMI)"
   ]
  },
  {
   "cell_type": "code",
   "execution_count": null,
   "id": "9c64ce1f",
   "metadata": {},
   "outputs": [],
   "source": []
  }
 ],
 "metadata": {
  "kernelspec": {
   "display_name": "Python 3 (ipykernel)",
   "language": "python",
   "name": "python3"
  },
  "language_info": {
   "codemirror_mode": {
    "name": "ipython",
    "version": 3
   },
   "file_extension": ".py",
   "mimetype": "text/x-python",
   "name": "python",
   "nbconvert_exporter": "python",
   "pygments_lexer": "ipython3",
   "version": "3.11.3"
  }
 },
 "nbformat": 4,
 "nbformat_minor": 5
}
