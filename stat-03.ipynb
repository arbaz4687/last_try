{
 "cells": [
  {
   "cell_type": "markdown",
   "metadata": {},
   "source": [
    "## research designs\n",
    "- crd(complete randomize design)\n",
    "- rcbd(Randomize complete block design)\n",
    "- lsd(latin square design)"
   ]
  },
  {
   "cell_type": "markdown",
   "metadata": {},
   "source": [
    "    1 Crd\n",
    "randomly selected any animal and then apply a any medicine for testing"
   ]
  },
  {
   "cell_type": "markdown",
   "metadata": {},
   "source": [
    "    2 rcbd\n",
    "in which design a we selected a  group of animal and then categorized into groups and then finally apply medicine on base of grouping"
   ]
  },
  {
   "cell_type": "markdown",
   "metadata": {},
   "source": [
    "    3 lsd\n",
    "this desing is suitable for small industries.in which we apply medicine in square method (a medicen cannot be repeated on a particular animal)"
   ]
  },
  {
   "cell_type": "markdown",
   "metadata": {},
   "source": []
  }
 ],
 "metadata": {
  "language_info": {
   "name": "python"
  },
  "orig_nbformat": 4
 },
 "nbformat": 4,
 "nbformat_minor": 2
}
