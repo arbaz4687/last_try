{
 "cells": [
  {
   "cell_type": "markdown",
   "metadata": {},
   "source": [
    "## Null hypothises\n",
    "- In null hypothises we are compare the two valiues such as one value is 100 and second value is 75 if we take the mean of the value if the value is greater than 0.05 it means Null hypothises accePted.otherwise not .if the value is more than provided value then null hypothises is NOT rejected \n",
    "- ### Alternative hypothises\n",
    "-  Means a value is either a greater than provided value or less then given value .\n",
    "  "
   ]
  },
  {
   "cell_type": "markdown",
   "metadata": {},
   "source": [
    "## Alpha and p value \n",
    "- p value means (probability value)in which we are selected a fixed range such 95% our data is accurate and 5% is error .\n",
    "- Alpha means you make a mistake of rejecting the null hypothisiswhen it will be rue ."
   ]
  },
  {
   "cell_type": "markdown",
   "metadata": {},
   "source": []
  }
 ],
 "metadata": {
  "kernelspec": {
   "display_name": "Python 3",
   "language": "python",
   "name": "python3"
  },
  "language_info": {
   "codemirror_mode": {
    "name": "ipython",
    "version": 3
   },
   "file_extension": ".py",
   "mimetype": "text/x-python",
   "name": "python",
   "nbconvert_exporter": "python",
   "pygments_lexer": "ipython3",
   "version": "3.10.1"
  },
  "orig_nbformat": 4
 },
 "nbformat": 4,
 "nbformat_minor": 2
}
