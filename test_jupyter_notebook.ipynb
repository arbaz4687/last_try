{
 "cells": [
  {
   "cell_type": "markdown",
   "id": "abe56764",
   "metadata": {},
   "source": [
    "# python ka chill with ammar\n",
    "## how are yo \n",
    "### my name is arbaz \n"
   ]
  },
  {
   "cell_type": "markdown",
   "id": "4c7bbc6e",
   "metadata": {},
   "source": [
    "### **01-first program**"
   ]
  },
  {
   "cell_type": "code",
   "execution_count": null,
   "id": "c51228e4",
   "metadata": {},
   "outputs": [],
   "source": [
    "print(2+3)\n",
    "print(\"learn with ammar\")\n",
    "print(\"my name is arbaz\")"
   ]
  },
  {
   "cell_type": "markdown",
   "id": "c76862f5",
   "metadata": {},
   "source": [
    "### **02-operaters**"
   ]
  },
  {
   "cell_type": "code",
   "execution_count": null,
   "id": "be4f3d08",
   "metadata": {},
   "outputs": [],
   "source": [
    "print(10%2)\n",
    "print(10//2)\n",
    "print(2**5)\n",
    "print(3**2/4*5-3+4)"
   ]
  },
  {
   "cell_type": "markdown",
   "id": "828621c7",
   "metadata": {},
   "source": [
    "### **03-variables**"
   ]
  },
  {
   "cell_type": "code",
   "execution_count": null,
   "id": "8314ea4d",
   "metadata": {},
   "outputs": [],
   "source": [
    "print(\"how are you\")\n",
    "print('hey how are you')\n",
    "print('''my name is arbaz ''')\n",
    "print(\"arbaz's laptop\")"
   ]
  },
  {
   "cell_type": "markdown",
   "id": "ab5ecae4",
   "metadata": {},
   "source": [
    "### **04-comments **"
   ]
  },
  {
   "cell_type": "code",
   "execution_count": null,
   "id": "6afe0687",
   "metadata": {},
   "outputs": [],
   "source": [
    "print(2+3)# methametic function\n",
    "print(\"learn with ammar\") # is ki vjha sai yai line print hi hogha \n",
    "print(\"my name is arbaz\")"
   ]
  },
  {
   "cell_type": "markdown",
   "id": "35525d8a",
   "metadata": {},
   "source": [
    "## **05-variables**"
   ]
  },
  {
   "cell_type": "code",
   "execution_count": null,
   "id": "a38dff1c",
   "metadata": {},
   "outputs": [],
   "source": [
    "x=5        # int or nnumeric variable\n",
    "print(x)\n",
    "y= \"my name is arbaz\"  #string variable  \n",
    "print(y)\n",
    "x=x+10  #update the value of x\n",
    "print(x)\n",
    "# how we can check type of variable \n",
    "print(type(x))\n",
    "print(type(y))"
   ]
  },
  {
   "cell_type": "markdown",
   "id": "ac7e3060",
   "metadata": {},
   "source": [
    "# Rules for python\n",
    "#01- variables only contains ,numbers,letters,underscore\n",
    "#02-case senstive (mostly use lower case )\n",
    "#03-spaces are not allowed\n",
    "#04-do note use the keyword like(break,test,mean ,mode,median)\n",
    "#05-short and descriptive \n",
    "#06-do note start with number"
   ]
  },
  {
   "cell_type": "code",
   "execution_count": null,
   "id": "919989f2",
   "metadata": {},
   "outputs": [],
   "source": [
    "fruite_baskit='mango','apple'\n",
    "print(fruite_baskit)\n",
    "print(type(fruite_baskit))\n",
    "fruite_baskit=8\n",
    "print(type(fruite_baskit))"
   ]
  },
  {
   "cell_type": "markdown",
   "id": "62669fac",
   "metadata": {},
   "source": [
    "## **06-input functions**"
   ]
  },
  {
   "cell_type": "code",
   "execution_count": null,
   "id": "8a538c39",
   "metadata": {},
   "outputs": [],
   "source": [
    "y=input(\"enter your Registration no \")\n",
    "greetings=(\",uaf tts student\")\n",
    "print(x,y,greetings)"
   ]
  },
  {
   "cell_type": "markdown",
   "id": "7c4dc168",
   "metadata": {},
   "source": [
    "##3 input function"
   ]
  },
  {
   "cell_type": "code",
   "execution_count": null,
   "id": "89b705d2",
   "metadata": {},
   "outputs": [],
   "source": [
    "name=input(\"enter your good name \")\n",
    "cnic=input(\"enter your valid ide card no \")\n",
    "greetings=(\",pakistani\")\n",
    "print(name,cnic,greetings)"
   ]
  },
  {
   "cell_type": "markdown",
   "id": "cb097b59",
   "metadata": {},
   "source": [
    "## **07-condition logic**"
   ]
  },
  {
   "cell_type": "raw",
   "id": "61821531",
   "metadata": {},
   "source": [
    "# logical operator \n",
    "# less then <\n",
    "# greater then >\n",
    "#ater then equal >=\n",
    "# equal to == not equal to !=\n",
    "# less then equal to <="
   ]
  },
  {
   "cell_type": "markdown",
   "id": "0cf60186",
   "metadata": {},
   "source": [
    "how we can use logic operator in python"
   ]
  },
  {
   "cell_type": "code",
   "execution_count": null,
   "id": "2700cd2d",
   "metadata": {},
   "outputs": [],
   "source": [
    " print(4==4)\n",
    "# print(3>4)\n",
    "# print(3<4)\n",
    "# print(3==4)\n",
    "# print(3!=4)"
   ]
  },
  {
   "cell_type": "markdown",
   "id": "16967451",
   "metadata": {},
   "source": [
    "# # REAL life example of python"
   ]
  },
  {
   "cell_type": "code",
   "execution_count": null,
   "id": "14c74857",
   "metadata": {},
   "outputs": [],
   "source": [
    "school_admission_age=5\n",
    " haseem_age=5\n",
    "# print(school_admission_age==haseem_age)"
   ]
  },
  {
   "cell_type": "code",
   "execution_count": null,
   "id": "111843c0",
   "metadata": {},
   "outputs": [],
   "source": [
    "school_admission_age=5\n",
    "student_age = input(\"enter your age \")\n",
    "student_age = int(student_age)\n",
    "print(school_admission_age==student_age )\n"
   ]
  },
  {
   "cell_type": "markdown",
   "id": "f23a10e3",
   "metadata": {},
   "source": [
    "## **08-condition logic**"
   ]
  },
  {
   "cell_type": "code",
   "execution_count": null,
   "id": "8edefa77",
   "metadata": {},
   "outputs": [],
   "source": [
    "x=5                     #type int\n",
    "y=5.23                  #type float \n",
    "z=\"my name is arbaz \"   #type str\n",
    "# print(type(x))\n",
    "# type of convertion implicit\n",
    "# x=x*y\n",
    "# print(type(x))\n",
    "# x=x+y\n",
    "# print(x,type(x))\n",
    "#type of convertion expilicit\n",
    "\n"
   ]
  },
  {
   "cell_type": "code",
   "execution_count": null,
   "id": "adaaa320",
   "metadata": {},
   "outputs": [],
   "source": [
    "school_admission_age=5\n",
    "student_age = input(\"enter your age \")\n",
    "student_age = int(student_age)\n",
    "print(school_admission_age==student_age )"
   ]
  },
  {
   "cell_type": "code",
   "execution_count": null,
   "id": "f27e886d",
   "metadata": {},
   "outputs": [],
   "source": []
  }
 ],
 "metadata": {
  "kernelspec": {
   "display_name": "Python 3 (ipykernel)",
   "language": "python",
   "name": "python3"
  },
  "language_info": {
   "codemirror_mode": {
    "name": "ipython",
    "version": 3
   },
   "file_extension": ".py",
   "mimetype": "text/x-python",
   "name": "python",
   "nbconvert_exporter": "python",
   "pygments_lexer": "ipython3",
   "version": "3.11.3"
  }
 },
 "nbformat": 4,
 "nbformat_minor": 5
}
